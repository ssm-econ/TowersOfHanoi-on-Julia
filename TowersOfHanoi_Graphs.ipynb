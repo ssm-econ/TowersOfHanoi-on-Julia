{
 "cells": [
  {
   "cell_type": "code",
   "execution_count": 1,
   "metadata": {},
   "outputs": [],
   "source": [
    "using Distributions\n",
    "using StatsBase\n",
    "using DataFrames\n",
    "using Flux;\n",
    "using DataStructures;"
   ]
  },
  {
   "cell_type": "code",
   "execution_count": 6,
   "metadata": {},
   "outputs": [],
   "source": [
    "n_disks,n_pegs=3,3;"
   ]
  },
  {
   "cell_type": "code",
   "execution_count": 11,
   "metadata": {},
   "outputs": [
    {
     "data": {
      "text/plain": [
       "move (generic function with 1 method)"
      ]
     },
     "execution_count": 11,
     "metadata": {},
     "output_type": "execute_result"
    }
   ],
   "source": [
    "function checkLegal(State,act) #Check the legality of the move: Moving the top disc from rung m to rung n when state=State\n",
    "    if State[act[1]]==[]\n",
    "        return 0\n",
    "    elseif State[act[2]]==[]\n",
    "        return 1\n",
    "    elseif State[act[1]][1]>State[act[2]][1]\n",
    "        return 0\n",
    "    else \n",
    "        return 1\n",
    "    end\n",
    "end\n",
    "\n",
    "function move(State,act)\n",
    "    newState=copy(State)\n",
    "    if checkLegal(State,act)>0\n",
    "        newState[act[2]]=[newState[act[1]][1];newState[act[2]]]\n",
    "        newState[act[1]]=newState[act[1]][2:end]\n",
    "        return newState\n",
    "    else\n",
    "        newState=State;\n",
    "        #println(\"Illegal Move\")\n",
    "        return newState\n",
    "    end\n",
    "    \n",
    "end"
   ]
  },
  {
   "cell_type": "code",
   "execution_count": 12,
   "metadata": {},
   "outputs": [
    {
     "name": "stdout",
     "output_type": "stream",
     "text": [
      "Vector{Any}[[1, 2, 3], [], []]\n",
      "Vector{Any}[[2, 3], [], [1]]\n",
      "Vector{Any}[[2, 3], [1], []]\n",
      "Vector{Any}[[3], [1], [2]]\n",
      "Vector{Any}[[3], [], [1, 2]]\n",
      "Vector{Any}[[], [3], [1, 2]]\n",
      "Vector{Any}[[], [1, 3], [2]]\n",
      "Vector{Any}[[2], [1, 3], []]\n",
      "Vector{Any}[[2], [3], [1]]\n",
      "Vector{Any}[[], [2, 3], [1]]\n",
      "Vector{Any}[[], [1, 2, 3], []]\n",
      "Vector{Any}[[1], [2, 3], []]\n",
      "Vector{Any}[[1], [3], [2]]\n",
      "Vector{Any}[[1, 2], [3], []]\n",
      "Vector{Any}[[1, 2], [], [3]]\n",
      "Vector{Any}[[2], [], [1, 3]]\n",
      "Vector{Any}[[2], [1], [3]]\n",
      "Vector{Any}[[], [1], [2, 3]]\n",
      "Vector{Any}[[], [], [1, 2, 3]]\n",
      "Vector{Any}[[1], [], [2, 3]]\n",
      "Vector{Any}[[1], [2], [3]]\n",
      "Vector{Any}[[], [2], [1, 3]]\n",
      "Vector{Any}[[], [1, 2], [3]]\n",
      "Vector{Any}[[3], [1, 2], []]\n",
      "Vector{Any}[[3], [2], [1]]\n",
      "Vector{Any}[[1, 3], [2], []]\n",
      "Vector{Any}[[1, 3], [], [2]]\n"
     ]
    }
   ],
   "source": [
    "State=[[1,2,3],[],[]]; #State is specified with the number indicating the size of the disc and represent the discs arranged top to bottom\n",
    "\n",
    "finalState=[[],[1,2,3],[]]\n",
    "\n",
    "all_moves=vec([[i,j] for i=1:3,j=1:3 if !(i==j)])\n",
    "\n",
    "neighbour(a)=[move(a,s) for s in all_moves if move(a,s)!=a]\n",
    "\n",
    "function all_legal(State)\n",
    "    legal_moves=[];\n",
    "    for move in all_moves\n",
    "        if checkLegal(State,move)>0\n",
    "            push!(legal_moves,move)\n",
    "        end\n",
    "    end\n",
    "    return legal_moves;\n",
    "end\n",
    "\n",
    "function depthFirstTraversal(start_node)\n",
    "    visited = [];\n",
    "    stack = [start_node];\n",
    "\n",
    "    while !isempty(stack)\n",
    "        node = pop!(stack)\n",
    "        if !(node in visited)\n",
    "            println(node)\n",
    "            push!(visited, node)\n",
    "            for neighbor in neighbour(node)\n",
    "                push!(stack, neighbor)\n",
    "            end\n",
    "        end\n",
    "    end\n",
    "    \n",
    "    return visited\n",
    "end\n",
    "\n",
    "all_states=depthFirstTraversal(State);\n",
    "\n",
    "move_to_ix=Dict();\n",
    "ix_to_move=Dict();\n",
    "for (ix,move) in enumerate(all_moves)\n",
    "    move_to_ix[move]=ix\n",
    "    ix_to_move[ix]=move\n",
    "end\n",
    "\n",
    "state_to_ix=Dict();\n",
    "ix_to_state=Dict();\n",
    "for (ix,state) in enumerate(all_states)\n",
    "    state_to_ix[state]=ix\n",
    "    ix_to_state[ix]=state\n",
    "end"
   ]
  },
  {
   "cell_type": "code",
   "execution_count": null,
   "metadata": {},
   "outputs": [],
   "source": [
    "function StackedMatrix(State) #Visualising the game-state as a stacked matrix\n",
    "    StateMat=copy(State)\n",
    "    n=n_disks;\n",
    "    m=n_pegs;\n",
    "    for j in 1:m\n",
    "        tempvec=ones(n)\n",
    "        if length(StateMat[j])<n\n",
    "            for i in 1:n-length(StateMat[j])\n",
    "                tempvec[i]=0\n",
    "            end\n",
    "            if length(StateMat[j])!=0\n",
    "                for i in 1:length(StateMat[j])\n",
    "                    tempvec[i+n-length(StateMat[j])]=StateMat[j][i]\n",
    "                end\n",
    "            end\n",
    "        end\n",
    "        StateMat[j]=tempvec\n",
    "    end\n",
    "    return StateMat\n",
    "end"
   ]
  },
  {
   "cell_type": "code",
   "execution_count": 19,
   "metadata": {},
   "outputs": [
    {
     "name": "stdout",
     "output_type": "stream",
     "text": [
      "Initial Adjacency matrix: \n"
     ]
    },
    {
     "data": {
      "text/plain": [
       "27×27 Matrix{Float64}:\n",
       " Inf    1.0   1.0  Inf   Inf   Inf   …  Inf   Inf   Inf   Inf   Inf   Inf\n",
       "  1.0  Inf    1.0  Inf   Inf   Inf      Inf   Inf   Inf    1.0  Inf   Inf\n",
       "  1.0   1.0  Inf    1.0  Inf   Inf      Inf   Inf   Inf   Inf   Inf   Inf\n",
       " Inf   Inf    1.0  Inf    1.0  Inf      Inf   Inf   Inf   Inf   Inf    1.0\n",
       " Inf   Inf   Inf    1.0  Inf    1.0     Inf   Inf   Inf   Inf   Inf    1.0\n",
       " Inf   Inf   Inf   Inf    1.0  Inf   …  Inf   Inf   Inf   Inf   Inf   Inf\n",
       " Inf   Inf   Inf   Inf   Inf    1.0     Inf   Inf   Inf   Inf   Inf   Inf\n",
       " Inf   Inf   Inf   Inf   Inf   Inf      Inf   Inf   Inf   Inf   Inf   Inf\n",
       " Inf   Inf   Inf   Inf   Inf   Inf      Inf   Inf   Inf   Inf   Inf   Inf\n",
       " Inf   Inf   Inf   Inf   Inf   Inf      Inf   Inf   Inf   Inf   Inf   Inf\n",
       " Inf   Inf   Inf   Inf   Inf   Inf   …  Inf   Inf   Inf   Inf   Inf   Inf\n",
       " Inf   Inf   Inf   Inf   Inf   Inf      Inf   Inf   Inf   Inf   Inf   Inf\n",
       " Inf   Inf   Inf   Inf   Inf    1.0     Inf   Inf   Inf   Inf   Inf   Inf\n",
       "  ⋮                             ⋮    ⋱                           ⋮    \n",
       " Inf   Inf   Inf   Inf   Inf   Inf   …   1.0  Inf   Inf   Inf   Inf   Inf\n",
       " Inf   Inf   Inf   Inf   Inf   Inf      Inf   Inf   Inf   Inf   Inf   Inf\n",
       " Inf   Inf   Inf   Inf   Inf   Inf      Inf   Inf   Inf   Inf   Inf   Inf\n",
       " Inf   Inf   Inf   Inf   Inf   Inf      Inf   Inf   Inf   Inf   Inf   Inf\n",
       " Inf   Inf   Inf   Inf   Inf   Inf      Inf   Inf   Inf   Inf   Inf   Inf\n",
       " Inf   Inf   Inf   Inf   Inf   Inf   …   1.0   1.0  Inf   Inf   Inf   Inf\n",
       " Inf   Inf   Inf   Inf   Inf   Inf      Inf    1.0  Inf   Inf   Inf   Inf\n",
       " Inf   Inf   Inf   Inf   Inf   Inf       1.0  Inf    1.0  Inf   Inf   Inf\n",
       " Inf   Inf   Inf   Inf   Inf   Inf      Inf    1.0  Inf    1.0   1.0  Inf\n",
       " Inf    1.0  Inf   Inf   Inf   Inf      Inf   Inf    1.0  Inf    1.0  Inf\n",
       " Inf   Inf   Inf   Inf   Inf   Inf   …  Inf   Inf    1.0   1.0  Inf    1.0\n",
       " Inf   Inf   Inf    1.0   1.0  Inf      Inf   Inf   Inf   Inf    1.0  Inf"
      ]
     },
     "metadata": {},
     "output_type": "display_data"
    },
    {
     "name": "stdout",
     "output_type": "stream",
     "text": [
      "\n",
      "\n",
      "Matrix A^k with k as 1\n",
      "Current dist:\n"
     ]
    },
    {
     "data": {
      "text/plain": [
       "27×27 Matrix{Float64}:\n",
       " Inf    1.0   1.0  Inf   Inf   Inf   …  Inf   Inf   Inf   Inf   Inf   Inf\n",
       "  1.0  Inf    1.0  Inf   Inf   Inf      Inf   Inf   Inf    1.0  Inf   Inf\n",
       "  1.0   1.0  Inf    1.0  Inf   Inf      Inf   Inf   Inf   Inf   Inf   Inf\n",
       " Inf   Inf    1.0  Inf    1.0  Inf      Inf   Inf   Inf   Inf   Inf    1.0\n",
       " Inf   Inf   Inf    1.0  Inf    1.0     Inf   Inf   Inf   Inf   Inf    1.0\n",
       " Inf   Inf   Inf   Inf    1.0  Inf   …  Inf   Inf   Inf   Inf   Inf   Inf\n",
       " Inf   Inf   Inf   Inf   Inf    1.0     Inf   Inf   Inf   Inf   Inf   Inf\n",
       " Inf   Inf   Inf   Inf   Inf   Inf      Inf   Inf   Inf   Inf   Inf   Inf\n",
       " Inf   Inf   Inf   Inf   Inf   Inf      Inf   Inf   Inf   Inf   Inf   Inf\n",
       " Inf   Inf   Inf   Inf   Inf   Inf      Inf   Inf   Inf   Inf   Inf   Inf\n",
       " Inf   Inf   Inf   Inf   Inf   Inf   …  Inf   Inf   Inf   Inf   Inf   Inf\n",
       " Inf   Inf   Inf   Inf   Inf   Inf      Inf   Inf   Inf   Inf   Inf   Inf\n",
       " Inf   Inf   Inf   Inf   Inf    1.0     Inf   Inf   Inf   Inf   Inf   Inf\n",
       "  ⋮                             ⋮    ⋱                           ⋮    \n",
       " Inf   Inf   Inf   Inf   Inf   Inf   …   1.0  Inf   Inf   Inf   Inf   Inf\n",
       " Inf   Inf   Inf   Inf   Inf   Inf      Inf   Inf   Inf   Inf   Inf   Inf\n",
       " Inf   Inf   Inf   Inf   Inf   Inf      Inf   Inf   Inf   Inf   Inf   Inf\n",
       " Inf   Inf   Inf   Inf   Inf   Inf      Inf   Inf   Inf   Inf   Inf   Inf\n",
       " Inf   Inf   Inf   Inf   Inf   Inf      Inf   Inf   Inf   Inf   Inf   Inf\n",
       " Inf   Inf   Inf   Inf   Inf   Inf   …   1.0   1.0  Inf   Inf   Inf   Inf\n",
       " Inf   Inf   Inf   Inf   Inf   Inf      Inf    1.0  Inf   Inf   Inf   Inf\n",
       " Inf   Inf   Inf   Inf   Inf   Inf       1.0  Inf    1.0  Inf   Inf   Inf\n",
       " Inf   Inf   Inf   Inf   Inf   Inf      Inf    1.0  Inf    1.0   1.0  Inf\n",
       " Inf    1.0  Inf   Inf   Inf   Inf      Inf   Inf    1.0  Inf    1.0  Inf\n",
       " Inf   Inf   Inf   Inf   Inf   Inf   …  Inf   Inf    1.0   1.0  Inf    1.0\n",
       " Inf   Inf   Inf    1.0   1.0  Inf      Inf   Inf   Inf   Inf    1.0  Inf"
      ]
     },
     "metadata": {},
     "output_type": "display_data"
    },
    {
     "name": "stdout",
     "output_type": "stream",
     "text": [
      "\n",
      "\n",
      "Matrix A^k with k as 2\n",
      "Current dist:\n"
     ]
    },
    {
     "data": {
      "text/plain": [
       "27×27 Matrix{Float64}:\n",
       " Inf    1.0   1.0  Inf   Inf   Inf   …  Inf   Inf   Inf   Inf   Inf   Inf\n",
       "  1.0   2.0   1.0  Inf   Inf   Inf      Inf   Inf   Inf    1.0  Inf   Inf\n",
       "  1.0   1.0   2.0   1.0  Inf   Inf      Inf   Inf   Inf   Inf   Inf   Inf\n",
       " Inf   Inf    1.0  Inf    1.0  Inf      Inf   Inf   Inf   Inf   Inf    1.0\n",
       " Inf   Inf   Inf    1.0  Inf    1.0     Inf   Inf   Inf   Inf   Inf    1.0\n",
       " Inf   Inf   Inf   Inf    1.0  Inf   …  Inf   Inf   Inf   Inf   Inf   Inf\n",
       " Inf   Inf   Inf   Inf   Inf    1.0     Inf   Inf   Inf   Inf   Inf   Inf\n",
       " Inf   Inf   Inf   Inf   Inf   Inf      Inf   Inf   Inf   Inf   Inf   Inf\n",
       " Inf   Inf   Inf   Inf   Inf   Inf      Inf   Inf   Inf   Inf   Inf   Inf\n",
       " Inf   Inf   Inf   Inf   Inf   Inf      Inf   Inf   Inf   Inf   Inf   Inf\n",
       " Inf   Inf   Inf   Inf   Inf   Inf   …  Inf   Inf   Inf   Inf   Inf   Inf\n",
       " Inf   Inf   Inf   Inf   Inf   Inf      Inf   Inf   Inf   Inf   Inf   Inf\n",
       " Inf   Inf   Inf   Inf   Inf    1.0     Inf   Inf   Inf   Inf   Inf   Inf\n",
       "  ⋮                             ⋮    ⋱                           ⋮    \n",
       " Inf   Inf   Inf   Inf   Inf   Inf   …   1.0  Inf   Inf   Inf   Inf   Inf\n",
       " Inf   Inf   Inf   Inf   Inf   Inf      Inf   Inf   Inf   Inf   Inf   Inf\n",
       " Inf   Inf   Inf   Inf   Inf   Inf      Inf   Inf   Inf   Inf   Inf   Inf\n",
       " Inf   Inf   Inf   Inf   Inf   Inf      Inf   Inf   Inf   Inf   Inf   Inf\n",
       " Inf   Inf   Inf   Inf   Inf   Inf      Inf   Inf   Inf   Inf   Inf   Inf\n",
       " Inf   Inf   Inf   Inf   Inf   Inf   …   1.0   1.0  Inf   Inf   Inf   Inf\n",
       " Inf   Inf   Inf   Inf   Inf   Inf      Inf    1.0  Inf   Inf   Inf   Inf\n",
       " Inf   Inf   Inf   Inf   Inf   Inf       1.0  Inf    1.0  Inf   Inf   Inf\n",
       " Inf   Inf   Inf   Inf   Inf   Inf      Inf    1.0  Inf    1.0   1.0  Inf\n",
       " Inf    1.0  Inf   Inf   Inf   Inf      Inf   Inf    1.0  Inf    1.0  Inf\n",
       " Inf   Inf   Inf   Inf   Inf   Inf   …  Inf   Inf    1.0   1.0  Inf    1.0\n",
       " Inf   Inf   Inf    1.0   1.0  Inf      Inf   Inf   Inf   Inf    1.0  Inf"
      ]
     },
     "metadata": {},
     "output_type": "display_data"
    },
    {
     "name": "stdout",
     "output_type": "stream",
     "text": [
      "\n",
      "\n",
      "Matrix A^k with k as 3\n",
      "Current dist:\n"
     ]
    },
    {
     "data": {
      "text/plain": [
       "27×27 Matrix{Float64}:\n",
       "  2.0   1.0   1.0  Inf   Inf   Inf   …  Inf   Inf   Inf    2.0  Inf   Inf\n",
       "  1.0   2.0   1.0  Inf   Inf   Inf      Inf   Inf   Inf    1.0  Inf   Inf\n",
       "  1.0   1.0   2.0   1.0  Inf   Inf      Inf   Inf   Inf    2.0  Inf   Inf\n",
       " Inf   Inf    1.0  Inf    1.0  Inf      Inf   Inf   Inf   Inf   Inf    1.0\n",
       " Inf   Inf   Inf    1.0  Inf    1.0     Inf   Inf   Inf   Inf   Inf    1.0\n",
       " Inf   Inf   Inf   Inf    1.0  Inf   …  Inf   Inf   Inf   Inf   Inf   Inf\n",
       " Inf   Inf   Inf   Inf   Inf    1.0     Inf   Inf   Inf   Inf   Inf   Inf\n",
       " Inf   Inf   Inf   Inf   Inf   Inf      Inf   Inf   Inf   Inf   Inf   Inf\n",
       " Inf   Inf   Inf   Inf   Inf   Inf      Inf   Inf   Inf   Inf   Inf   Inf\n",
       " Inf   Inf   Inf   Inf   Inf   Inf      Inf   Inf   Inf   Inf   Inf   Inf\n",
       " Inf   Inf   Inf   Inf   Inf   Inf   …  Inf   Inf   Inf   Inf   Inf   Inf\n",
       " Inf   Inf   Inf   Inf   Inf   Inf      Inf   Inf   Inf   Inf   Inf   Inf\n",
       " Inf   Inf   Inf   Inf   Inf    1.0     Inf   Inf   Inf   Inf   Inf   Inf\n",
       "  ⋮                             ⋮    ⋱                           ⋮    \n",
       " Inf   Inf   Inf   Inf   Inf   Inf   …   1.0  Inf   Inf   Inf   Inf   Inf\n",
       " Inf   Inf   Inf   Inf   Inf   Inf      Inf   Inf   Inf   Inf   Inf   Inf\n",
       " Inf   Inf   Inf   Inf   Inf   Inf      Inf   Inf   Inf   Inf   Inf   Inf\n",
       " Inf   Inf   Inf   Inf   Inf   Inf      Inf   Inf   Inf   Inf   Inf   Inf\n",
       " Inf   Inf   Inf   Inf   Inf   Inf      Inf   Inf   Inf   Inf   Inf   Inf\n",
       " Inf   Inf   Inf   Inf   Inf   Inf   …   1.0   1.0  Inf   Inf   Inf   Inf\n",
       " Inf   Inf   Inf   Inf   Inf   Inf      Inf    1.0  Inf   Inf   Inf   Inf\n",
       " Inf   Inf   Inf   Inf   Inf   Inf       1.0  Inf    1.0  Inf   Inf   Inf\n",
       " Inf   Inf   Inf   Inf   Inf   Inf      Inf    1.0  Inf    1.0   1.0  Inf\n",
       "  2.0   1.0   2.0  Inf   Inf   Inf      Inf   Inf    1.0   2.0   1.0  Inf\n",
       " Inf   Inf   Inf   Inf   Inf   Inf   …  Inf   Inf    1.0   1.0  Inf    1.0\n",
       " Inf   Inf   Inf    1.0   1.0  Inf      Inf   Inf   Inf   Inf    1.0  Inf"
      ]
     },
     "metadata": {},
     "output_type": "display_data"
    },
    {
     "name": "stdout",
     "output_type": "stream",
     "text": [
      "\n",
      "\n",
      "Matrix A^k with k as 4\n",
      "Current dist:\n"
     ]
    },
    {
     "data": {
      "text/plain": [
       "27×27 Matrix{Float64}:\n",
       "  2.0   1.0   1.0   2.0  Inf   Inf   …  Inf   Inf   Inf    2.0  Inf   Inf\n",
       "  1.0   2.0   1.0   2.0  Inf   Inf      Inf   Inf   Inf    1.0  Inf   Inf\n",
       "  1.0   1.0   2.0   1.0  Inf   Inf      Inf   Inf   Inf    2.0  Inf   Inf\n",
       "  2.0   2.0   1.0   2.0   1.0  Inf      Inf   Inf   Inf    3.0  Inf    1.0\n",
       " Inf   Inf   Inf    1.0  Inf    1.0     Inf   Inf   Inf   Inf   Inf    1.0\n",
       " Inf   Inf   Inf   Inf    1.0  Inf   …  Inf   Inf   Inf   Inf   Inf   Inf\n",
       " Inf   Inf   Inf   Inf   Inf    1.0     Inf   Inf   Inf   Inf   Inf   Inf\n",
       " Inf   Inf   Inf   Inf   Inf   Inf      Inf   Inf   Inf   Inf   Inf   Inf\n",
       " Inf   Inf   Inf   Inf   Inf   Inf      Inf   Inf   Inf   Inf   Inf   Inf\n",
       " Inf   Inf   Inf   Inf   Inf   Inf      Inf   Inf   Inf   Inf   Inf   Inf\n",
       " Inf   Inf   Inf   Inf   Inf   Inf   …  Inf   Inf   Inf   Inf   Inf   Inf\n",
       " Inf   Inf   Inf   Inf   Inf   Inf      Inf   Inf   Inf   Inf   Inf   Inf\n",
       " Inf   Inf   Inf   Inf   Inf    1.0     Inf   Inf   Inf   Inf   Inf   Inf\n",
       "  ⋮                             ⋮    ⋱                           ⋮    \n",
       " Inf   Inf   Inf   Inf   Inf   Inf   …   1.0  Inf   Inf   Inf   Inf   Inf\n",
       " Inf   Inf   Inf   Inf   Inf   Inf      Inf   Inf   Inf   Inf   Inf   Inf\n",
       " Inf   Inf   Inf   Inf   Inf   Inf      Inf   Inf   Inf   Inf   Inf   Inf\n",
       " Inf   Inf   Inf   Inf   Inf   Inf      Inf   Inf   Inf   Inf   Inf   Inf\n",
       " Inf   Inf   Inf   Inf   Inf   Inf      Inf   Inf   Inf   Inf   Inf   Inf\n",
       " Inf   Inf   Inf   Inf   Inf   Inf   …   1.0   1.0  Inf   Inf   Inf   Inf\n",
       " Inf   Inf   Inf   Inf   Inf   Inf      Inf    1.0  Inf   Inf   Inf   Inf\n",
       " Inf   Inf   Inf   Inf   Inf   Inf       1.0  Inf    1.0  Inf   Inf   Inf\n",
       " Inf   Inf   Inf   Inf   Inf   Inf      Inf    1.0  Inf    1.0   1.0  Inf\n",
       "  2.0   1.0   2.0   3.0  Inf   Inf      Inf   Inf    1.0   2.0   1.0  Inf\n",
       " Inf   Inf   Inf   Inf   Inf   Inf   …  Inf   Inf    1.0   1.0  Inf    1.0\n",
       " Inf   Inf   Inf    1.0   1.0  Inf      Inf   Inf   Inf   Inf    1.0  Inf"
      ]
     },
     "metadata": {},
     "output_type": "display_data"
    },
    {
     "name": "stdout",
     "output_type": "stream",
     "text": [
      "\n",
      "\n",
      "Matrix A^k with k as 5\n",
      "Current dist:\n"
     ]
    },
    {
     "data": {
      "text/plain": [
       "27×27 Matrix{Float64}:\n",
       "  2.0   1.0   1.0   2.0   3.0  Inf   …  Inf   Inf   Inf    2.0  Inf    3.0\n",
       "  1.0   2.0   1.0   2.0   3.0  Inf      Inf   Inf   Inf    1.0  Inf    3.0\n",
       "  1.0   1.0   2.0   1.0   2.0  Inf      Inf   Inf   Inf    2.0  Inf    2.0\n",
       "  2.0   2.0   1.0   2.0   1.0  Inf      Inf   Inf   Inf    3.0  Inf    1.0\n",
       "  3.0   3.0   2.0   1.0   2.0   1.0     Inf   Inf   Inf    4.0  Inf    1.0\n",
       " Inf   Inf   Inf   Inf    1.0  Inf   …  Inf   Inf   Inf   Inf   Inf   Inf\n",
       " Inf   Inf   Inf   Inf   Inf    1.0     Inf   Inf   Inf   Inf   Inf   Inf\n",
       " Inf   Inf   Inf   Inf   Inf   Inf      Inf   Inf   Inf   Inf   Inf   Inf\n",
       " Inf   Inf   Inf   Inf   Inf   Inf      Inf   Inf   Inf   Inf   Inf   Inf\n",
       " Inf   Inf   Inf   Inf   Inf   Inf      Inf   Inf   Inf   Inf   Inf   Inf\n",
       " Inf   Inf   Inf   Inf   Inf   Inf   …  Inf   Inf   Inf   Inf   Inf   Inf\n",
       " Inf   Inf   Inf   Inf   Inf   Inf      Inf   Inf   Inf   Inf   Inf   Inf\n",
       " Inf   Inf   Inf   Inf   Inf    1.0     Inf   Inf   Inf   Inf   Inf   Inf\n",
       "  ⋮                             ⋮    ⋱                           ⋮    \n",
       " Inf   Inf   Inf   Inf   Inf   Inf   …   1.0  Inf   Inf   Inf   Inf   Inf\n",
       " Inf   Inf   Inf   Inf   Inf   Inf      Inf   Inf   Inf   Inf   Inf   Inf\n",
       " Inf   Inf   Inf   Inf   Inf   Inf      Inf   Inf   Inf   Inf   Inf   Inf\n",
       " Inf   Inf   Inf   Inf   Inf   Inf      Inf   Inf   Inf   Inf   Inf   Inf\n",
       " Inf   Inf   Inf   Inf   Inf   Inf      Inf   Inf   Inf   Inf   Inf   Inf\n",
       " Inf   Inf   Inf   Inf   Inf   Inf   …   1.0   1.0  Inf   Inf   Inf   Inf\n",
       " Inf   Inf   Inf   Inf   Inf   Inf      Inf    1.0  Inf   Inf   Inf   Inf\n",
       " Inf   Inf   Inf   Inf   Inf   Inf       1.0  Inf    1.0  Inf   Inf   Inf\n",
       " Inf   Inf   Inf   Inf   Inf   Inf      Inf    1.0  Inf    1.0   1.0  Inf\n",
       "  2.0   1.0   2.0   3.0   4.0  Inf      Inf   Inf    1.0   2.0   1.0   4.0\n",
       " Inf   Inf   Inf   Inf   Inf   Inf   …  Inf   Inf    1.0   1.0  Inf    1.0\n",
       "  3.0   3.0   2.0   1.0   1.0  Inf      Inf   Inf   Inf    4.0   1.0   2.0"
      ]
     },
     "metadata": {},
     "output_type": "display_data"
    },
    {
     "name": "stdout",
     "output_type": "stream",
     "text": [
      "\n",
      "\n",
      "Matrix A^k with k as 6\n",
      "Current dist:\n"
     ]
    },
    {
     "data": {
      "text/plain": [
       "27×27 Matrix{Float64}:\n",
       "  2.0   1.0   1.0   2.0   3.0   4.0  …  Inf   Inf   Inf    2.0  Inf    3.0\n",
       "  1.0   2.0   1.0   2.0   3.0   4.0     Inf   Inf   Inf    1.0  Inf    3.0\n",
       "  1.0   1.0   2.0   1.0   2.0   3.0     Inf   Inf   Inf    2.0  Inf    2.0\n",
       "  2.0   2.0   1.0   2.0   1.0   2.0     Inf   Inf   Inf    3.0  Inf    1.0\n",
       "  3.0   3.0   2.0   1.0   2.0   1.0     Inf   Inf   Inf    4.0  Inf    1.0\n",
       "  4.0   4.0   3.0   2.0   1.0   2.0  …  Inf   Inf   Inf    5.0  Inf    2.0\n",
       " Inf   Inf   Inf   Inf   Inf    1.0     Inf   Inf   Inf   Inf   Inf   Inf\n",
       " Inf   Inf   Inf   Inf   Inf   Inf      Inf   Inf   Inf   Inf   Inf   Inf\n",
       " Inf   Inf   Inf   Inf   Inf   Inf      Inf   Inf   Inf   Inf   Inf   Inf\n",
       " Inf   Inf   Inf   Inf   Inf   Inf      Inf   Inf   Inf   Inf   Inf   Inf\n",
       " Inf   Inf   Inf   Inf   Inf   Inf   …  Inf   Inf   Inf   Inf   Inf   Inf\n",
       " Inf   Inf   Inf   Inf   Inf   Inf      Inf   Inf   Inf   Inf   Inf   Inf\n",
       " Inf   Inf   Inf   Inf   Inf    1.0     Inf   Inf   Inf   Inf   Inf   Inf\n",
       "  ⋮                             ⋮    ⋱                           ⋮    \n",
       " Inf   Inf   Inf   Inf   Inf   Inf   …   1.0  Inf   Inf   Inf   Inf   Inf\n",
       " Inf   Inf   Inf   Inf   Inf   Inf      Inf   Inf   Inf   Inf   Inf   Inf\n",
       " Inf   Inf   Inf   Inf   Inf   Inf      Inf   Inf   Inf   Inf   Inf   Inf\n",
       " Inf   Inf   Inf   Inf   Inf   Inf      Inf   Inf   Inf   Inf   Inf   Inf\n",
       " Inf   Inf   Inf   Inf   Inf   Inf      Inf   Inf   Inf   Inf   Inf   Inf\n",
       " Inf   Inf   Inf   Inf   Inf   Inf   …   1.0   1.0  Inf   Inf   Inf   Inf\n",
       " Inf   Inf   Inf   Inf   Inf   Inf      Inf    1.0  Inf   Inf   Inf   Inf\n",
       " Inf   Inf   Inf   Inf   Inf   Inf       1.0  Inf    1.0  Inf   Inf   Inf\n",
       " Inf   Inf   Inf   Inf   Inf   Inf      Inf    1.0  Inf    1.0   1.0  Inf\n",
       "  2.0   1.0   2.0   3.0   4.0   5.0     Inf   Inf    1.0   2.0   1.0   4.0\n",
       " Inf   Inf   Inf   Inf   Inf   Inf   …  Inf   Inf    1.0   1.0  Inf    1.0\n",
       "  3.0   3.0   2.0   1.0   1.0   2.0     Inf   Inf   Inf    4.0   1.0   2.0"
      ]
     },
     "metadata": {},
     "output_type": "display_data"
    },
    {
     "name": "stdout",
     "output_type": "stream",
     "text": [
      "\n",
      "\n",
      "Matrix A^k with k as 7\n",
      "Current dist:\n"
     ]
    },
    {
     "data": {
      "text/plain": [
       "27×27 Matrix{Float64}:\n",
       "  2.0   1.0   1.0   2.0   3.0   4.0  …  Inf   Inf   Inf    2.0  Inf    3.0\n",
       "  1.0   2.0   1.0   2.0   3.0   4.0     Inf   Inf   Inf    1.0  Inf    3.0\n",
       "  1.0   1.0   2.0   1.0   2.0   3.0     Inf   Inf   Inf    2.0  Inf    2.0\n",
       "  2.0   2.0   1.0   2.0   1.0   2.0     Inf   Inf   Inf    3.0  Inf    1.0\n",
       "  3.0   3.0   2.0   1.0   2.0   1.0     Inf   Inf   Inf    4.0  Inf    1.0\n",
       "  4.0   4.0   3.0   2.0   1.0   2.0  …  Inf   Inf   Inf    5.0  Inf    2.0\n",
       "  5.0   5.0   4.0   3.0   2.0   1.0     Inf   Inf   Inf    6.0  Inf    3.0\n",
       " Inf   Inf   Inf   Inf   Inf   Inf      Inf   Inf   Inf   Inf   Inf   Inf\n",
       " Inf   Inf   Inf   Inf   Inf   Inf      Inf   Inf   Inf   Inf   Inf   Inf\n",
       " Inf   Inf   Inf   Inf   Inf   Inf      Inf   Inf   Inf   Inf   Inf   Inf\n",
       " Inf   Inf   Inf   Inf   Inf   Inf   …  Inf   Inf   Inf   Inf   Inf   Inf\n",
       " Inf   Inf   Inf   Inf   Inf   Inf      Inf   Inf   Inf   Inf   Inf   Inf\n",
       "  5.0   5.0   4.0   3.0   2.0   1.0     Inf   Inf   Inf    6.0  Inf    3.0\n",
       "  ⋮                             ⋮    ⋱                           ⋮    \n",
       " Inf   Inf   Inf   Inf   Inf   Inf   …   1.0  Inf   Inf   Inf   Inf   Inf\n",
       " Inf   Inf   Inf   Inf   Inf   Inf      Inf   Inf   Inf   Inf   Inf   Inf\n",
       " Inf   Inf   Inf   Inf   Inf   Inf      Inf   Inf   Inf   Inf   Inf   Inf\n",
       " Inf   Inf   Inf   Inf   Inf   Inf      Inf   Inf   Inf   Inf   Inf   Inf\n",
       " Inf   Inf   Inf   Inf   Inf   Inf      Inf   Inf   Inf   Inf   Inf   Inf\n",
       " Inf   Inf   Inf   Inf   Inf   Inf   …   1.0   1.0  Inf   Inf   Inf   Inf\n",
       " Inf   Inf   Inf   Inf   Inf   Inf      Inf    1.0  Inf   Inf   Inf   Inf\n",
       " Inf   Inf   Inf   Inf   Inf   Inf       1.0  Inf    1.0  Inf   Inf   Inf\n",
       " Inf   Inf   Inf   Inf   Inf   Inf      Inf    1.0  Inf    1.0   1.0  Inf\n",
       "  2.0   1.0   2.0   3.0   4.0   5.0     Inf   Inf    1.0   2.0   1.0   4.0\n",
       " Inf   Inf   Inf   Inf   Inf   Inf   …  Inf   Inf    1.0   1.0  Inf    1.0\n",
       "  3.0   3.0   2.0   1.0   1.0   2.0     Inf   Inf   Inf    4.0   1.0   2.0"
      ]
     },
     "metadata": {},
     "output_type": "display_data"
    },
    {
     "name": "stdout",
     "output_type": "stream",
     "text": [
      "\n",
      "\n",
      "Matrix A^k with k as 8\n",
      "Current dist:\n"
     ]
    },
    {
     "data": {
      "text/plain": [
       "27×27 Matrix{Float64}:\n",
       "  2.0   1.0   1.0   2.0   3.0   4.0  …  Inf   Inf   Inf    2.0  Inf    3.0\n",
       "  1.0   2.0   1.0   2.0   3.0   4.0     Inf   Inf   Inf    1.0  Inf    3.0\n",
       "  1.0   1.0   2.0   1.0   2.0   3.0     Inf   Inf   Inf    2.0  Inf    2.0\n",
       "  2.0   2.0   1.0   2.0   1.0   2.0     Inf   Inf   Inf    3.0  Inf    1.0\n",
       "  3.0   3.0   2.0   1.0   2.0   1.0     Inf   Inf   Inf    4.0  Inf    1.0\n",
       "  4.0   4.0   3.0   2.0   1.0   2.0  …  Inf   Inf   Inf    5.0  Inf    2.0\n",
       "  5.0   5.0   4.0   3.0   2.0   1.0     Inf   Inf   Inf    6.0  Inf    3.0\n",
       "  6.0   6.0   5.0   4.0   3.0   2.0     Inf   Inf   Inf    7.0  Inf    4.0\n",
       " Inf   Inf   Inf   Inf   Inf   Inf      Inf   Inf   Inf   Inf   Inf   Inf\n",
       " Inf   Inf   Inf   Inf   Inf   Inf      Inf   Inf   Inf   Inf   Inf   Inf\n",
       " Inf   Inf   Inf   Inf   Inf   Inf   …  Inf   Inf   Inf   Inf   Inf   Inf\n",
       " Inf   Inf   Inf   Inf   Inf   Inf      Inf   Inf   Inf   Inf   Inf   Inf\n",
       "  5.0   5.0   4.0   3.0   2.0   1.0     Inf   Inf   Inf    6.0  Inf    3.0\n",
       "  ⋮                             ⋮    ⋱                           ⋮    \n",
       " Inf   Inf   Inf   Inf   Inf   Inf   …   1.0  Inf   Inf   Inf   Inf   Inf\n",
       " Inf   Inf   Inf   Inf   Inf   Inf      Inf   Inf   Inf   Inf   Inf   Inf\n",
       " Inf   Inf   Inf   Inf   Inf   Inf      Inf   Inf   Inf   Inf   Inf   Inf\n",
       " Inf   Inf   Inf   Inf   Inf   Inf      Inf   Inf   Inf   Inf   Inf   Inf\n",
       " Inf   Inf   Inf   Inf   Inf   Inf      Inf   Inf   Inf   Inf   Inf   Inf\n",
       " Inf   Inf   Inf   Inf   Inf   Inf   …   1.0   1.0  Inf   Inf   Inf   Inf\n",
       " Inf   Inf   Inf   Inf   Inf   Inf      Inf    1.0  Inf   Inf   Inf   Inf\n",
       " Inf   Inf   Inf   Inf   Inf   Inf       1.0  Inf    1.0  Inf   Inf   Inf\n",
       " Inf   Inf   Inf   Inf   Inf   Inf      Inf    1.0  Inf    1.0   1.0  Inf\n",
       "  2.0   1.0   2.0   3.0   4.0   5.0     Inf   Inf    1.0   2.0   1.0   4.0\n",
       " Inf   Inf   Inf   Inf   Inf   Inf   …  Inf   Inf    1.0   1.0  Inf    1.0\n",
       "  3.0   3.0   2.0   1.0   1.0   2.0     Inf   Inf   Inf    4.0   1.0   2.0"
      ]
     },
     "metadata": {},
     "output_type": "display_data"
    },
    {
     "name": "stdout",
     "output_type": "stream",
     "text": [
      "\n",
      "\n",
      "Matrix A^k with k as 9\n",
      "Current dist:\n"
     ]
    },
    {
     "data": {
      "text/plain": [
       "27×27 Matrix{Float64}:\n",
       "  2.0   1.0   1.0   2.0   3.0   4.0  …  Inf   Inf   Inf    2.0  Inf    3.0\n",
       "  1.0   2.0   1.0   2.0   3.0   4.0     Inf   Inf   Inf    1.0  Inf    3.0\n",
       "  1.0   1.0   2.0   1.0   2.0   3.0     Inf   Inf   Inf    2.0  Inf    2.0\n",
       "  2.0   2.0   1.0   2.0   1.0   2.0     Inf   Inf   Inf    3.0  Inf    1.0\n",
       "  3.0   3.0   2.0   1.0   2.0   1.0     Inf   Inf   Inf    4.0  Inf    1.0\n",
       "  4.0   4.0   3.0   2.0   1.0   2.0  …  Inf   Inf   Inf    5.0  Inf    2.0\n",
       "  5.0   5.0   4.0   3.0   2.0   1.0     Inf   Inf   Inf    6.0  Inf    3.0\n",
       "  6.0   6.0   5.0   4.0   3.0   2.0     Inf   Inf   Inf    7.0  Inf    4.0\n",
       "  7.0   7.0   6.0   5.0   4.0   3.0     Inf   Inf   Inf    8.0  Inf    5.0\n",
       " Inf   Inf   Inf   Inf   Inf   Inf      Inf   Inf   Inf   Inf   Inf   Inf\n",
       " Inf   Inf   Inf   Inf   Inf   Inf   …  Inf   Inf   Inf   Inf   Inf   Inf\n",
       " Inf   Inf   Inf   Inf   Inf   Inf      Inf   Inf   Inf   Inf   Inf   Inf\n",
       "  5.0   5.0   4.0   3.0   2.0   1.0     Inf   Inf   Inf    6.0  Inf    3.0\n",
       "  ⋮                             ⋮    ⋱                           ⋮    \n",
       " Inf   Inf   Inf   Inf   Inf   Inf   …   1.0  Inf   Inf   Inf   Inf   Inf\n",
       " Inf   Inf   Inf   Inf   Inf   Inf      Inf   Inf   Inf   Inf   Inf   Inf\n",
       " Inf   Inf   Inf   Inf   Inf   Inf      Inf   Inf   Inf   Inf   Inf   Inf\n",
       " Inf   Inf   Inf   Inf   Inf   Inf      Inf   Inf   Inf   Inf   Inf   Inf\n",
       " Inf   Inf   Inf   Inf   Inf   Inf      Inf   Inf   Inf   Inf   Inf   Inf\n",
       " Inf   Inf   Inf   Inf   Inf   Inf   …   1.0   1.0  Inf   Inf   Inf   Inf\n",
       " Inf   Inf   Inf   Inf   Inf   Inf      Inf    1.0  Inf   Inf   Inf   Inf\n",
       " Inf   Inf   Inf   Inf   Inf   Inf       1.0  Inf    1.0  Inf   Inf   Inf\n",
       " Inf   Inf   Inf   Inf   Inf   Inf      Inf    1.0  Inf    1.0   1.0  Inf\n",
       "  2.0   1.0   2.0   3.0   4.0   5.0     Inf   Inf    1.0   2.0   1.0   4.0\n",
       " Inf   Inf   Inf   Inf   Inf   Inf   …  Inf   Inf    1.0   1.0  Inf    1.0\n",
       "  3.0   3.0   2.0   1.0   1.0   2.0     Inf   Inf   Inf    4.0   1.0   2.0"
      ]
     },
     "metadata": {},
     "output_type": "display_data"
    },
    {
     "name": "stdout",
     "output_type": "stream",
     "text": [
      "\n",
      "\n",
      "Matrix A^k with k as 10\n",
      "Current dist:\n"
     ]
    },
    {
     "data": {
      "text/plain": [
       "27×27 Matrix{Float64}:\n",
       "  2.0   1.0   1.0   2.0   3.0   4.0  …  Inf   Inf   Inf    2.0  Inf    3.0\n",
       "  1.0   2.0   1.0   2.0   3.0   4.0     Inf   Inf   Inf    1.0  Inf    3.0\n",
       "  1.0   1.0   2.0   1.0   2.0   3.0     Inf   Inf   Inf    2.0  Inf    2.0\n",
       "  2.0   2.0   1.0   2.0   1.0   2.0     Inf   Inf   Inf    3.0  Inf    1.0\n",
       "  3.0   3.0   2.0   1.0   2.0   1.0     Inf   Inf   Inf    4.0  Inf    1.0\n",
       "  4.0   4.0   3.0   2.0   1.0   2.0  …  Inf   Inf   Inf    5.0  Inf    2.0\n",
       "  5.0   5.0   4.0   3.0   2.0   1.0     Inf   Inf   Inf    6.0  Inf    3.0\n",
       "  6.0   6.0   5.0   4.0   3.0   2.0     Inf   Inf   Inf    7.0  Inf    4.0\n",
       "  7.0   7.0   6.0   5.0   4.0   3.0     Inf   Inf   Inf    8.0  Inf    5.0\n",
       "  8.0   8.0   7.0   6.0   5.0   4.0     Inf   Inf   Inf    9.0  Inf    6.0\n",
       " Inf   Inf   Inf   Inf   Inf   Inf   …  Inf   Inf   Inf   Inf   Inf   Inf\n",
       " Inf   Inf   Inf   Inf   Inf   Inf      Inf   Inf   Inf   Inf   Inf   Inf\n",
       "  5.0   5.0   4.0   3.0   2.0   1.0     Inf   Inf   Inf    6.0  Inf    3.0\n",
       "  ⋮                             ⋮    ⋱                           ⋮    \n",
       " Inf   Inf   Inf   Inf   Inf   Inf   …   1.0  Inf   Inf   Inf   Inf   Inf\n",
       " Inf   Inf   Inf   Inf   Inf   Inf      Inf   Inf   Inf   Inf   Inf   Inf\n",
       " Inf   Inf   Inf   Inf   Inf   Inf      Inf   Inf   Inf   Inf   Inf   Inf\n",
       " Inf   Inf   Inf   Inf   Inf   Inf      Inf   Inf   Inf   Inf   Inf   Inf\n",
       " Inf   Inf   Inf   Inf   Inf   Inf      Inf   Inf   Inf   Inf   Inf   Inf\n",
       " Inf   Inf   Inf   Inf   Inf   Inf   …   1.0   1.0  Inf   Inf   Inf   Inf\n",
       " Inf   Inf   Inf   Inf   Inf   Inf      Inf    1.0  Inf   Inf   Inf   Inf\n",
       " Inf   Inf   Inf   Inf   Inf   Inf       1.0  Inf    1.0  Inf   Inf   Inf\n",
       " Inf   Inf   Inf   Inf   Inf   Inf      Inf    1.0  Inf    1.0   1.0  Inf\n",
       "  2.0   1.0   2.0   3.0   4.0   5.0     Inf   Inf    1.0   2.0   1.0   4.0\n",
       " Inf   Inf   Inf   Inf   Inf   Inf   …  Inf   Inf    1.0   1.0  Inf    1.0\n",
       "  3.0   3.0   2.0   1.0   1.0   2.0     Inf   Inf   Inf    4.0   1.0   2.0"
      ]
     },
     "metadata": {},
     "output_type": "display_data"
    },
    {
     "name": "stdout",
     "output_type": "stream",
     "text": [
      "\n",
      "\n",
      "Matrix A^k with k as 11\n",
      "Current dist:\n"
     ]
    },
    {
     "data": {
      "text/plain": [
       "27×27 Matrix{Float64}:\n",
       "  2.0   1.0   1.0   2.0   3.0   4.0  …  Inf   Inf   Inf    2.0  Inf    3.0\n",
       "  1.0   2.0   1.0   2.0   3.0   4.0     Inf   Inf   Inf    1.0  Inf    3.0\n",
       "  1.0   1.0   2.0   1.0   2.0   3.0     Inf   Inf   Inf    2.0  Inf    2.0\n",
       "  2.0   2.0   1.0   2.0   1.0   2.0     Inf   Inf   Inf    3.0  Inf    1.0\n",
       "  3.0   3.0   2.0   1.0   2.0   1.0     Inf   Inf   Inf    4.0  Inf    1.0\n",
       "  4.0   4.0   3.0   2.0   1.0   2.0  …  Inf   Inf   Inf    5.0  Inf    2.0\n",
       "  5.0   5.0   4.0   3.0   2.0   1.0     Inf   Inf   Inf    6.0  Inf    3.0\n",
       "  6.0   6.0   5.0   4.0   3.0   2.0     Inf   Inf   Inf    7.0  Inf    4.0\n",
       "  7.0   7.0   6.0   5.0   4.0   3.0     Inf   Inf   Inf    8.0  Inf    5.0\n",
       "  8.0   8.0   7.0   6.0   5.0   4.0     Inf   Inf   Inf    9.0  Inf    6.0\n",
       "  9.0   9.0   8.0   7.0   6.0   5.0  …  Inf   Inf   Inf   10.0  Inf    7.0\n",
       "  9.0   9.0   8.0   7.0   6.0   5.0     Inf   Inf   Inf   10.0  Inf    7.0\n",
       "  5.0   5.0   4.0   3.0   2.0   1.0     Inf   Inf   Inf    6.0  Inf    3.0\n",
       "  ⋮                             ⋮    ⋱                           ⋮    \n",
       " Inf   Inf   Inf   Inf   Inf   Inf   …   1.0  Inf   Inf   Inf   Inf   Inf\n",
       " Inf   Inf   Inf   Inf   Inf   Inf      Inf   Inf   Inf   Inf   Inf   Inf\n",
       " Inf   Inf   Inf   Inf   Inf   Inf      Inf   Inf   Inf   Inf   Inf   Inf\n",
       " Inf   Inf   Inf   Inf   Inf   Inf      Inf   Inf   Inf   Inf   Inf   Inf\n",
       " Inf   Inf   Inf   Inf   Inf   Inf      Inf   Inf   Inf   Inf   Inf   Inf\n",
       " Inf   Inf   Inf   Inf   Inf   Inf   …   1.0   1.0  Inf   Inf   Inf   Inf\n",
       " Inf   Inf   Inf   Inf   Inf   Inf      Inf    1.0  Inf   Inf   Inf   Inf\n",
       " Inf   Inf   Inf   Inf   Inf   Inf       1.0  Inf    1.0  Inf   Inf   Inf\n",
       " Inf   Inf   Inf   Inf   Inf   Inf      Inf    1.0  Inf    1.0   1.0  Inf\n",
       "  2.0   1.0   2.0   3.0   4.0   5.0     Inf   Inf    1.0   2.0   1.0   4.0\n",
       " Inf   Inf   Inf   Inf   Inf   Inf   …  Inf   Inf    1.0   1.0  Inf    1.0\n",
       "  3.0   3.0   2.0   1.0   1.0   2.0     Inf   Inf   Inf    4.0   1.0   2.0"
      ]
     },
     "metadata": {},
     "output_type": "display_data"
    },
    {
     "name": "stdout",
     "output_type": "stream",
     "text": [
      "\n",
      "\n",
      "Matrix A^k with k as 12\n",
      "Current dist:\n"
     ]
    },
    {
     "data": {
      "text/plain": [
       "27×27 Matrix{Float64}:\n",
       "  2.0   1.0   1.0   2.0   3.0   4.0  …  Inf   Inf   Inf    2.0  Inf    3.0\n",
       "  1.0   2.0   1.0   2.0   3.0   4.0     Inf   Inf   Inf    1.0  Inf    3.0\n",
       "  1.0   1.0   2.0   1.0   2.0   3.0     Inf   Inf   Inf    2.0  Inf    2.0\n",
       "  2.0   2.0   1.0   2.0   1.0   2.0     Inf   Inf   Inf    3.0  Inf    1.0\n",
       "  3.0   3.0   2.0   1.0   2.0   1.0     Inf   Inf   Inf    4.0  Inf    1.0\n",
       "  4.0   4.0   3.0   2.0   1.0   2.0  …  Inf   Inf   Inf    5.0  Inf    2.0\n",
       "  5.0   5.0   4.0   3.0   2.0   1.0     Inf   Inf   Inf    6.0  Inf    3.0\n",
       "  6.0   6.0   5.0   4.0   3.0   2.0     Inf   Inf   Inf    7.0  Inf    4.0\n",
       "  7.0   7.0   6.0   5.0   4.0   3.0     Inf   Inf   Inf    8.0  Inf    5.0\n",
       "  8.0   8.0   7.0   6.0   5.0   4.0     Inf   Inf   Inf    9.0  Inf    6.0\n",
       "  9.0   9.0   8.0   7.0   6.0   5.0  …  Inf   Inf   Inf   10.0  Inf    7.0\n",
       "  9.0   9.0   8.0   7.0   6.0   5.0     Inf   Inf   Inf   10.0  Inf    7.0\n",
       "  5.0   5.0   4.0   3.0   2.0   1.0     Inf   Inf   Inf    6.0  Inf    3.0\n",
       "  ⋮                             ⋮    ⋱                           ⋮    \n",
       " Inf   Inf   Inf   Inf   Inf   Inf   …   1.0  Inf   Inf   Inf   Inf   Inf\n",
       " Inf   Inf   Inf   Inf   Inf   Inf      Inf   Inf   Inf   Inf   Inf   Inf\n",
       " Inf   Inf   Inf   Inf   Inf   Inf      Inf   Inf   Inf   Inf   Inf   Inf\n",
       " Inf   Inf   Inf   Inf   Inf   Inf      Inf   Inf   Inf   Inf   Inf   Inf\n",
       " Inf   Inf   Inf   Inf   Inf   Inf      Inf   Inf   Inf   Inf   Inf   Inf\n",
       " Inf   Inf   Inf   Inf   Inf   Inf   …   1.0   1.0  Inf   Inf   Inf   Inf\n",
       " Inf   Inf   Inf   Inf   Inf   Inf      Inf    1.0  Inf   Inf   Inf   Inf\n",
       " Inf   Inf   Inf   Inf   Inf   Inf       1.0  Inf    1.0  Inf   Inf   Inf\n",
       " Inf   Inf   Inf   Inf   Inf   Inf      Inf    1.0  Inf    1.0   1.0  Inf\n",
       "  2.0   1.0   2.0   3.0   4.0   5.0     Inf   Inf    1.0   2.0   1.0   4.0\n",
       " Inf   Inf   Inf   Inf   Inf   Inf   …  Inf   Inf    1.0   1.0  Inf    1.0\n",
       "  3.0   3.0   2.0   1.0   1.0   2.0     Inf   Inf   Inf    4.0   1.0   2.0"
      ]
     },
     "metadata": {},
     "output_type": "display_data"
    },
    {
     "name": "stdout",
     "output_type": "stream",
     "text": [
      "\n",
      "\n",
      "Matrix A^k with k as 13\n",
      "Current dist:\n"
     ]
    },
    {
     "data": {
      "text/plain": [
       "27×27 Matrix{Float64}:\n",
       "  2.0   1.0   1.0   2.0   3.0   4.0  …  Inf   Inf   Inf    2.0  Inf    3.0\n",
       "  1.0   2.0   1.0   2.0   3.0   4.0     Inf   Inf   Inf    1.0  Inf    3.0\n",
       "  1.0   1.0   2.0   1.0   2.0   3.0     Inf   Inf   Inf    2.0  Inf    2.0\n",
       "  2.0   2.0   1.0   2.0   1.0   2.0     Inf   Inf   Inf    3.0  Inf    1.0\n",
       "  3.0   3.0   2.0   1.0   2.0   1.0     Inf   Inf   Inf    4.0  Inf    1.0\n",
       "  4.0   4.0   3.0   2.0   1.0   2.0  …  Inf   Inf   Inf    5.0  Inf    2.0\n",
       "  5.0   5.0   4.0   3.0   2.0   1.0     Inf   Inf   Inf    6.0  Inf    3.0\n",
       "  6.0   6.0   5.0   4.0   3.0   2.0     Inf   Inf   Inf    7.0  Inf    4.0\n",
       "  7.0   7.0   6.0   5.0   4.0   3.0     Inf   Inf   Inf    8.0  Inf    5.0\n",
       "  8.0   8.0   7.0   6.0   5.0   4.0     Inf   Inf   Inf    9.0  Inf    6.0\n",
       "  9.0   9.0   8.0   7.0   6.0   5.0  …  Inf   Inf   Inf   10.0  Inf    7.0\n",
       "  9.0   9.0   8.0   7.0   6.0   5.0     Inf   Inf   Inf   10.0  Inf    7.0\n",
       "  5.0   5.0   4.0   3.0   2.0   1.0     Inf   Inf   Inf    6.0  Inf    3.0\n",
       "  ⋮                             ⋮    ⋱                           ⋮    \n",
       " Inf   Inf   Inf   Inf   Inf   Inf   …   1.0  Inf   Inf   Inf   Inf   Inf\n",
       " Inf   Inf   Inf   Inf   Inf   Inf      Inf   Inf   Inf   Inf   Inf   Inf\n",
       " Inf   Inf   Inf   Inf   Inf   Inf      Inf   Inf   Inf   Inf   Inf   Inf\n",
       " Inf   Inf   Inf   Inf   Inf   Inf      Inf   Inf   Inf   Inf   Inf   Inf\n",
       " Inf   Inf   Inf   Inf   Inf   Inf      Inf   Inf   Inf   Inf   Inf   Inf\n",
       " Inf   Inf   Inf   Inf   Inf   Inf   …   1.0   1.0  Inf   Inf   Inf   Inf\n",
       " Inf   Inf   Inf   Inf   Inf   Inf      Inf    1.0  Inf   Inf   Inf   Inf\n",
       " Inf   Inf   Inf   Inf   Inf   Inf       1.0  Inf    1.0  Inf   Inf   Inf\n",
       " Inf   Inf   Inf   Inf   Inf   Inf      Inf    1.0  Inf    1.0   1.0  Inf\n",
       "  2.0   1.0   2.0   3.0   4.0   5.0     Inf   Inf    1.0   2.0   1.0   4.0\n",
       " Inf   Inf   Inf   Inf   Inf   Inf   …  Inf   Inf    1.0   1.0  Inf    1.0\n",
       "  3.0   3.0   2.0   1.0   1.0   2.0     Inf   Inf   Inf    4.0   1.0   2.0"
      ]
     },
     "metadata": {},
     "output_type": "display_data"
    },
    {
     "name": "stdout",
     "output_type": "stream",
     "text": [
      "\n",
      "\n",
      "Matrix A^k with k as 14\n",
      "Current dist:\n"
     ]
    },
    {
     "data": {
      "text/plain": [
       "27×27 Matrix{Float64}:\n",
       "  2.0   1.0   1.0   2.0   3.0   4.0  …  Inf   Inf   Inf    2.0  Inf    3.0\n",
       "  1.0   2.0   1.0   2.0   3.0   4.0     Inf   Inf   Inf    1.0  Inf    3.0\n",
       "  1.0   1.0   2.0   1.0   2.0   3.0     Inf   Inf   Inf    2.0  Inf    2.0\n",
       "  2.0   2.0   1.0   2.0   1.0   2.0     Inf   Inf   Inf    3.0  Inf    1.0\n",
       "  3.0   3.0   2.0   1.0   2.0   1.0     Inf   Inf   Inf    4.0  Inf    1.0\n",
       "  4.0   4.0   3.0   2.0   1.0   2.0  …  Inf   Inf   Inf    5.0  Inf    2.0\n",
       "  5.0   5.0   4.0   3.0   2.0   1.0     Inf   Inf   Inf    6.0  Inf    3.0\n",
       "  6.0   6.0   5.0   4.0   3.0   2.0     Inf   Inf   Inf    7.0  Inf    4.0\n",
       "  7.0   7.0   6.0   5.0   4.0   3.0     Inf   Inf   Inf    8.0  Inf    5.0\n",
       "  7.0   7.0   6.0   5.0   4.0   3.0     Inf   Inf   Inf    8.0  Inf    5.0\n",
       "  7.0   7.0   6.0   5.0   4.0   3.0  …  Inf   Inf   Inf    8.0  Inf    5.0\n",
       "  6.0   6.0   5.0   4.0   3.0   2.0     Inf   Inf   Inf    7.0  Inf    4.0\n",
       "  5.0   5.0   4.0   3.0   2.0   1.0     Inf   Inf   Inf    6.0  Inf    3.0\n",
       "  ⋮                             ⋮    ⋱                           ⋮    \n",
       " Inf   Inf   Inf   Inf   Inf   Inf   …   1.0  Inf   Inf   Inf   Inf   Inf\n",
       " Inf   Inf   Inf   Inf   Inf   Inf      Inf   Inf   Inf   Inf   Inf   Inf\n",
       " Inf   Inf   Inf   Inf   Inf   Inf      Inf   Inf   Inf   Inf   Inf   Inf\n",
       " Inf   Inf   Inf   Inf   Inf   Inf      Inf   Inf   Inf   Inf   Inf   Inf\n",
       " Inf   Inf   Inf   Inf   Inf   Inf      Inf   Inf   Inf   Inf   Inf   Inf\n",
       " Inf   Inf   Inf   Inf   Inf   Inf   …   1.0   1.0  Inf   Inf   Inf   Inf\n",
       " Inf   Inf   Inf   Inf   Inf   Inf      Inf    1.0  Inf   Inf   Inf   Inf\n",
       " Inf   Inf   Inf   Inf   Inf   Inf       1.0  Inf    1.0  Inf   Inf   Inf\n",
       " Inf   Inf   Inf   Inf   Inf   Inf      Inf    1.0  Inf    1.0   1.0  Inf\n",
       "  2.0   1.0   2.0   3.0   4.0   5.0     Inf   Inf    1.0   2.0   1.0   4.0\n",
       " Inf   Inf   Inf   Inf   Inf   Inf   …  Inf   Inf    1.0   1.0  Inf    1.0\n",
       "  3.0   3.0   2.0   1.0   1.0   2.0     Inf   Inf   Inf    4.0   1.0   2.0"
      ]
     },
     "metadata": {},
     "output_type": "display_data"
    },
    {
     "name": "stdout",
     "output_type": "stream",
     "text": [
      "\n",
      "\n",
      "Matrix A^k with k as 15\n",
      "Current dist:\n"
     ]
    },
    {
     "data": {
      "text/plain": [
       "27×27 Matrix{Float64}:\n",
       "  2.0   1.0   1.0   2.0   3.0   4.0  …  Inf   Inf   Inf    2.0  Inf    3.0\n",
       "  1.0   2.0   1.0   2.0   3.0   4.0     Inf   Inf   Inf    1.0  Inf    3.0\n",
       "  1.0   1.0   2.0   1.0   2.0   3.0     Inf   Inf   Inf    2.0  Inf    2.0\n",
       "  2.0   2.0   1.0   2.0   1.0   2.0     Inf   Inf   Inf    3.0  Inf    1.0\n",
       "  3.0   3.0   2.0   1.0   2.0   1.0     Inf   Inf   Inf    4.0  Inf    1.0\n",
       "  4.0   4.0   3.0   2.0   1.0   2.0  …  Inf   Inf   Inf    5.0  Inf    2.0\n",
       "  5.0   5.0   4.0   3.0   2.0   1.0     Inf   Inf   Inf    6.0  Inf    3.0\n",
       "  6.0   6.0   5.0   4.0   3.0   2.0     Inf   Inf   Inf    7.0  Inf    4.0\n",
       "  7.0   7.0   6.0   5.0   4.0   3.0     Inf   Inf   Inf    8.0  Inf    5.0\n",
       "  7.0   7.0   6.0   5.0   4.0   3.0     Inf   Inf   Inf    8.0  Inf    5.0\n",
       "  7.0   7.0   6.0   5.0   4.0   3.0  …  Inf   Inf   Inf    8.0  Inf    5.0\n",
       "  6.0   6.0   5.0   4.0   3.0   2.0     Inf   Inf   Inf    7.0  Inf    4.0\n",
       "  5.0   5.0   4.0   3.0   2.0   1.0     Inf   Inf   Inf    6.0  Inf    3.0\n",
       "  ⋮                             ⋮    ⋱                           ⋮    \n",
       " Inf   Inf   Inf   Inf   Inf   Inf   …   1.0  Inf   Inf   Inf   Inf   Inf\n",
       " Inf   Inf   Inf   Inf   Inf   Inf      Inf   Inf   Inf   Inf   Inf   Inf\n",
       " Inf   Inf   Inf   Inf   Inf   Inf      Inf   Inf   Inf   Inf   Inf   Inf\n",
       " Inf   Inf   Inf   Inf   Inf   Inf      Inf   Inf   Inf   Inf   Inf   Inf\n",
       " Inf   Inf   Inf   Inf   Inf   Inf      Inf   Inf   Inf   Inf   Inf   Inf\n",
       " Inf   Inf   Inf   Inf   Inf   Inf   …   1.0   1.0  Inf   Inf   Inf   Inf\n",
       " Inf   Inf   Inf   Inf   Inf   Inf      Inf    1.0  Inf   Inf   Inf   Inf\n",
       " Inf   Inf   Inf   Inf   Inf   Inf       1.0  Inf    1.0  Inf   Inf   Inf\n",
       " Inf   Inf   Inf   Inf   Inf   Inf      Inf    1.0  Inf    1.0   1.0  Inf\n",
       "  2.0   1.0   2.0   3.0   4.0   5.0     Inf   Inf    1.0   2.0   1.0   4.0\n",
       " Inf   Inf   Inf   Inf   Inf   Inf   …  Inf   Inf    1.0   1.0  Inf    1.0\n",
       "  3.0   3.0   2.0   1.0   1.0   2.0     Inf   Inf   Inf    4.0   1.0   2.0"
      ]
     },
     "metadata": {},
     "output_type": "display_data"
    },
    {
     "name": "stdout",
     "output_type": "stream",
     "text": [
      "\n",
      "\n",
      "Matrix A^k with k as 16\n",
      "Current dist:\n"
     ]
    },
    {
     "data": {
      "text/plain": [
       "27×27 Matrix{Float64}:\n",
       "  2.0   1.0   1.0   2.0   3.0   4.0  …  Inf   Inf   Inf    2.0  Inf    3.0\n",
       "  1.0   2.0   1.0   2.0   3.0   4.0     Inf   Inf   Inf    1.0  Inf    3.0\n",
       "  1.0   1.0   2.0   1.0   2.0   3.0     Inf   Inf   Inf    2.0  Inf    2.0\n",
       "  2.0   2.0   1.0   2.0   1.0   2.0     Inf   Inf   Inf    3.0  Inf    1.0\n",
       "  3.0   3.0   2.0   1.0   2.0   1.0     Inf   Inf   Inf    4.0  Inf    1.0\n",
       "  4.0   4.0   3.0   2.0   1.0   2.0  …  Inf   Inf   Inf    5.0  Inf    2.0\n",
       "  5.0   5.0   4.0   3.0   2.0   1.0     Inf   Inf   Inf    6.0  Inf    3.0\n",
       "  6.0   6.0   5.0   4.0   3.0   2.0     Inf   Inf   Inf    7.0  Inf    4.0\n",
       "  7.0   7.0   6.0   5.0   4.0   3.0     Inf   Inf   Inf    8.0  Inf    5.0\n",
       "  7.0   7.0   6.0   5.0   4.0   3.0     Inf   Inf   Inf    8.0  Inf    5.0\n",
       "  7.0   7.0   6.0   5.0   4.0   3.0  …  Inf   Inf   Inf    8.0  Inf    5.0\n",
       "  6.0   6.0   5.0   4.0   3.0   2.0     Inf   Inf   Inf    7.0  Inf    4.0\n",
       "  5.0   5.0   4.0   3.0   2.0   1.0     Inf   Inf   Inf    6.0  Inf    3.0\n",
       "  ⋮                             ⋮    ⋱                           ⋮    \n",
       "  9.0   9.0   8.0   7.0   6.0   5.0  …   1.0  Inf   Inf   10.0  Inf    7.0\n",
       "  9.0   9.0   8.0   7.0   6.0   5.0     Inf   Inf   Inf   10.0  Inf    7.0\n",
       " Inf   Inf   Inf   Inf   Inf   Inf      Inf   Inf   Inf   Inf   Inf   Inf\n",
       " Inf   Inf   Inf   Inf   Inf   Inf      Inf   Inf   Inf   Inf   Inf   Inf\n",
       " Inf   Inf   Inf   Inf   Inf   Inf      Inf   Inf   Inf   Inf   Inf   Inf\n",
       " Inf   Inf   Inf   Inf   Inf   Inf   …   1.0   1.0  Inf   Inf   Inf   Inf\n",
       " Inf   Inf   Inf   Inf   Inf   Inf      Inf    1.0  Inf   Inf   Inf   Inf\n",
       " Inf   Inf   Inf   Inf   Inf   Inf       1.0  Inf    1.0  Inf   Inf   Inf\n",
       " Inf   Inf   Inf   Inf   Inf   Inf      Inf    1.0  Inf    1.0   1.0  Inf\n",
       "  2.0   1.0   2.0   3.0   4.0   5.0     Inf   Inf    1.0   2.0   1.0   4.0\n",
       " Inf   Inf   Inf   Inf   Inf   Inf   …  Inf   Inf    1.0   1.0  Inf    1.0\n",
       "  3.0   3.0   2.0   1.0   1.0   2.0     Inf   Inf   Inf    4.0   1.0   2.0"
      ]
     },
     "metadata": {},
     "output_type": "display_data"
    },
    {
     "name": "stdout",
     "output_type": "stream",
     "text": [
      "\n",
      "\n",
      "Matrix A^k with k as 17\n",
      "Current dist:\n"
     ]
    },
    {
     "data": {
      "text/plain": [
       "27×27 Matrix{Float64}:\n",
       "  2.0   1.0   1.0   2.0   3.0   4.0  …  10.0  Inf   Inf    2.0  Inf    3.0\n",
       "  1.0   2.0   1.0   2.0   3.0   4.0     10.0  Inf   Inf    1.0  Inf    3.0\n",
       "  1.0   1.0   2.0   1.0   2.0   3.0      9.0  Inf   Inf    2.0  Inf    2.0\n",
       "  2.0   2.0   1.0   2.0   1.0   2.0      8.0  Inf   Inf    3.0  Inf    1.0\n",
       "  3.0   3.0   2.0   1.0   2.0   1.0      7.0  Inf   Inf    4.0  Inf    1.0\n",
       "  4.0   4.0   3.0   2.0   1.0   2.0  …   6.0  Inf   Inf    5.0  Inf    2.0\n",
       "  5.0   5.0   4.0   3.0   2.0   1.0      5.0  Inf   Inf    6.0  Inf    3.0\n",
       "  6.0   6.0   5.0   4.0   3.0   2.0      4.0  Inf   Inf    7.0  Inf    4.0\n",
       "  7.0   7.0   6.0   5.0   4.0   3.0      4.0  Inf   Inf    8.0  Inf    5.0\n",
       "  7.0   7.0   6.0   5.0   4.0   3.0      5.0  Inf   Inf    8.0  Inf    5.0\n",
       "  7.0   7.0   6.0   5.0   4.0   3.0  …   6.0  Inf   Inf    8.0  Inf    5.0\n",
       "  6.0   6.0   5.0   4.0   3.0   2.0      6.0  Inf   Inf    7.0  Inf    4.0\n",
       "  5.0   5.0   4.0   3.0   2.0   1.0      6.0  Inf   Inf    6.0  Inf    3.0\n",
       "  ⋮                             ⋮    ⋱                           ⋮    \n",
       "  9.0   9.0   8.0   7.0   6.0   5.0  …   1.0  Inf   Inf   10.0  Inf    7.0\n",
       "  9.0   9.0   8.0   7.0   6.0   5.0      2.0  Inf   Inf   10.0  Inf    7.0\n",
       " Inf   Inf   Inf   Inf   Inf   Inf      Inf   Inf   Inf   Inf   Inf   Inf\n",
       " Inf   Inf   Inf   Inf   Inf   Inf      Inf   Inf   Inf   Inf   Inf   Inf\n",
       " Inf   Inf   Inf   Inf   Inf   Inf      Inf   Inf   Inf   Inf   Inf   Inf\n",
       " Inf   Inf   Inf   Inf   Inf   Inf   …   1.0   1.0  Inf   Inf   Inf   Inf\n",
       " 10.0  10.0   9.0   8.0   7.0   6.0      2.0   1.0  Inf   11.0  Inf    8.0\n",
       " Inf   Inf   Inf   Inf   Inf   Inf       1.0  Inf    1.0  Inf   Inf   Inf\n",
       " Inf   Inf   Inf   Inf   Inf   Inf      Inf    1.0  Inf    1.0   1.0  Inf\n",
       "  2.0   1.0   2.0   3.0   4.0   5.0     11.0  Inf    1.0   2.0   1.0   4.0\n",
       " Inf   Inf   Inf   Inf   Inf   Inf   …  Inf   Inf    1.0   1.0  Inf    1.0\n",
       "  3.0   3.0   2.0   1.0   1.0   2.0      8.0  Inf   Inf    4.0   1.0   2.0"
      ]
     },
     "metadata": {},
     "output_type": "display_data"
    },
    {
     "name": "stdout",
     "output_type": "stream",
     "text": [
      "\n",
      "\n",
      "Matrix A^k with k as 18\n",
      "Current dist:\n"
     ]
    },
    {
     "data": {
      "text/plain": [
       "27×27 Matrix{Float64}:\n",
       "  2.0   1.0   1.0   2.0   3.0   4.0  …  10.0  Inf   Inf    2.0  Inf    3.0\n",
       "  1.0   2.0   1.0   2.0   3.0   4.0     10.0  Inf   Inf    1.0  Inf    3.0\n",
       "  1.0   1.0   2.0   1.0   2.0   3.0      9.0  Inf   Inf    2.0  Inf    2.0\n",
       "  2.0   2.0   1.0   2.0   1.0   2.0      8.0  Inf   Inf    3.0  Inf    1.0\n",
       "  3.0   3.0   2.0   1.0   2.0   1.0      7.0  Inf   Inf    4.0  Inf    1.0\n",
       "  4.0   4.0   3.0   2.0   1.0   2.0  …   6.0  Inf   Inf    5.0  Inf    2.0\n",
       "  5.0   5.0   4.0   3.0   2.0   1.0      5.0  Inf   Inf    6.0  Inf    3.0\n",
       "  6.0   6.0   5.0   4.0   3.0   2.0      4.0  Inf   Inf    7.0  Inf    4.0\n",
       "  7.0   7.0   6.0   5.0   4.0   3.0      4.0  Inf   Inf    8.0  Inf    5.0\n",
       "  7.0   7.0   6.0   5.0   4.0   3.0      5.0  Inf   Inf    8.0  Inf    5.0\n",
       "  7.0   7.0   6.0   5.0   4.0   3.0  …   6.0  Inf   Inf    8.0  Inf    5.0\n",
       "  6.0   6.0   5.0   4.0   3.0   2.0      6.0  Inf   Inf    7.0  Inf    4.0\n",
       "  5.0   5.0   4.0   3.0   2.0   1.0      6.0  Inf   Inf    6.0  Inf    3.0\n",
       "  ⋮                             ⋮    ⋱                           ⋮    \n",
       "  9.0   9.0   8.0   7.0   6.0   5.0  …   1.0  Inf   Inf   10.0  Inf    7.0\n",
       "  9.0   9.0   8.0   7.0   6.0   5.0      2.0  Inf   Inf   10.0  Inf    7.0\n",
       " 10.0  10.0   9.0   8.0   7.0   6.0      3.0  Inf   Inf   11.0  Inf    8.0\n",
       " Inf   Inf   Inf   Inf   Inf   Inf      Inf   Inf   Inf   Inf   Inf   Inf\n",
       " Inf   Inf   Inf   Inf   Inf   Inf      Inf   Inf   Inf   Inf   Inf   Inf\n",
       " Inf   Inf   Inf   Inf   Inf   Inf   …   1.0   1.0  Inf   Inf   Inf   Inf\n",
       " 10.0  10.0   9.0   8.0   7.0   6.0      2.0   1.0  Inf   11.0  Inf    8.0\n",
       " Inf   Inf   Inf   Inf   Inf   Inf       1.0  Inf    1.0  Inf   Inf   Inf\n",
       " Inf   Inf   Inf   Inf   Inf   Inf      Inf    1.0  Inf    1.0   1.0  Inf\n",
       "  2.0   1.0   2.0   3.0   4.0   5.0     11.0  Inf    1.0   2.0   1.0   4.0\n",
       " Inf   Inf   Inf   Inf   Inf   Inf   …  Inf   Inf    1.0   1.0  Inf    1.0\n",
       "  3.0   3.0   2.0   1.0   1.0   2.0      8.0  Inf   Inf    4.0   1.0   2.0"
      ]
     },
     "metadata": {},
     "output_type": "display_data"
    },
    {
     "name": "stdout",
     "output_type": "stream",
     "text": [
      "\n",
      "\n",
      "Matrix A^k with k as 19\n",
      "Current dist:\n"
     ]
    },
    {
     "data": {
      "text/plain": [
       "27×27 Matrix{Float64}:\n",
       "  2.0   1.0   1.0   2.0   3.0   4.0  …  10.0  Inf   Inf    2.0  Inf    3.0\n",
       "  1.0   2.0   1.0   2.0   3.0   4.0     10.0  Inf   Inf    1.0  Inf    3.0\n",
       "  1.0   1.0   2.0   1.0   2.0   3.0      9.0  Inf   Inf    2.0  Inf    2.0\n",
       "  2.0   2.0   1.0   2.0   1.0   2.0      8.0  Inf   Inf    3.0  Inf    1.0\n",
       "  3.0   3.0   2.0   1.0   2.0   1.0      7.0  Inf   Inf    4.0  Inf    1.0\n",
       "  4.0   4.0   3.0   2.0   1.0   2.0  …   6.0  Inf   Inf    5.0  Inf    2.0\n",
       "  5.0   5.0   4.0   3.0   2.0   1.0      5.0  Inf   Inf    6.0  Inf    3.0\n",
       "  6.0   6.0   5.0   4.0   3.0   2.0      4.0  Inf   Inf    7.0  Inf    4.0\n",
       "  7.0   7.0   6.0   5.0   4.0   3.0      4.0  Inf   Inf    8.0  Inf    5.0\n",
       "  7.0   7.0   6.0   5.0   4.0   3.0      5.0  Inf   Inf    8.0  Inf    5.0\n",
       "  7.0   7.0   6.0   5.0   4.0   3.0  …   6.0  Inf   Inf    8.0  Inf    5.0\n",
       "  6.0   6.0   5.0   4.0   3.0   2.0      6.0  Inf   Inf    7.0  Inf    4.0\n",
       "  5.0   5.0   4.0   3.0   2.0   1.0      6.0  Inf   Inf    6.0  Inf    3.0\n",
       "  ⋮                             ⋮    ⋱                           ⋮    \n",
       "  9.0   9.0   8.0   7.0   6.0   5.0  …   1.0  Inf   Inf   10.0  Inf    7.0\n",
       "  9.0   9.0   8.0   7.0   6.0   5.0      2.0  Inf   Inf   10.0  Inf    7.0\n",
       " 10.0  10.0   9.0   8.0   7.0   6.0      3.0  Inf   Inf   11.0  Inf    8.0\n",
       " 11.0  11.0  10.0   9.0   8.0   7.0      4.0  Inf   Inf   12.0  Inf    9.0\n",
       " 11.0  11.0  10.0   9.0   8.0   7.0      4.0  Inf   Inf   12.0  Inf    9.0\n",
       " Inf   Inf   Inf   Inf   Inf   Inf   …   1.0   1.0  Inf   Inf   Inf   Inf\n",
       " 10.0  10.0   9.0   8.0   7.0   6.0      2.0   1.0  Inf   11.0  Inf    8.0\n",
       " Inf   Inf   Inf   Inf   Inf   Inf       1.0  Inf    1.0  Inf   Inf   Inf\n",
       " Inf   Inf   Inf   Inf   Inf   Inf      Inf    1.0  Inf    1.0   1.0  Inf\n",
       "  2.0   1.0   2.0   3.0   4.0   5.0     11.0  Inf    1.0   2.0   1.0   4.0\n",
       " Inf   Inf   Inf   Inf   Inf   Inf   …  Inf   Inf    1.0   1.0  Inf    1.0\n",
       "  3.0   3.0   2.0   1.0   1.0   2.0      8.0  Inf   Inf    4.0   1.0   2.0"
      ]
     },
     "metadata": {},
     "output_type": "display_data"
    },
    {
     "name": "stdout",
     "output_type": "stream",
     "text": [
      "\n",
      "\n",
      "Matrix A^k with k as 20\n",
      "Current dist:\n"
     ]
    },
    {
     "data": {
      "text/plain": [
       "27×27 Matrix{Float64}:\n",
       "  2.0   1.0   1.0   2.0   3.0   4.0  …  10.0  Inf   Inf    2.0  Inf    3.0\n",
       "  1.0   2.0   1.0   2.0   3.0   4.0     10.0  Inf   Inf    1.0  Inf    3.0\n",
       "  1.0   1.0   2.0   1.0   2.0   3.0      9.0  Inf   Inf    2.0  Inf    2.0\n",
       "  2.0   2.0   1.0   2.0   1.0   2.0      8.0  Inf   Inf    3.0  Inf    1.0\n",
       "  3.0   3.0   2.0   1.0   2.0   1.0      7.0  Inf   Inf    4.0  Inf    1.0\n",
       "  4.0   4.0   3.0   2.0   1.0   2.0  …   6.0  Inf   Inf    5.0  Inf    2.0\n",
       "  5.0   5.0   4.0   3.0   2.0   1.0      5.0  Inf   Inf    6.0  Inf    3.0\n",
       "  6.0   6.0   5.0   4.0   3.0   2.0      4.0  Inf   Inf    7.0  Inf    4.0\n",
       "  7.0   7.0   6.0   5.0   4.0   3.0      4.0  Inf   Inf    8.0  Inf    5.0\n",
       "  7.0   7.0   6.0   5.0   4.0   3.0      5.0  Inf   Inf    8.0  Inf    5.0\n",
       "  7.0   7.0   6.0   5.0   4.0   3.0  …   6.0  Inf   Inf    8.0  Inf    5.0\n",
       "  6.0   6.0   5.0   4.0   3.0   2.0      6.0  Inf   Inf    7.0  Inf    4.0\n",
       "  5.0   5.0   4.0   3.0   2.0   1.0      6.0  Inf   Inf    6.0  Inf    3.0\n",
       "  ⋮                             ⋮    ⋱                           ⋮    \n",
       "  9.0   9.0   8.0   7.0   6.0   5.0  …   1.0  Inf   Inf   10.0  Inf    7.0\n",
       "  9.0   9.0   8.0   7.0   6.0   5.0      2.0  Inf   Inf   10.0  Inf    7.0\n",
       " 10.0  10.0   9.0   8.0   7.0   6.0      3.0  Inf   Inf   11.0  Inf    8.0\n",
       " 11.0  11.0  10.0   9.0   8.0   7.0      4.0  Inf   Inf   12.0  Inf    9.0\n",
       " 11.0  11.0  10.0   9.0   8.0   7.0      4.0  Inf   Inf   12.0  Inf    9.0\n",
       " Inf   Inf   Inf   Inf   Inf   Inf   …   1.0   1.0  Inf   Inf   Inf   Inf\n",
       " 10.0  10.0   9.0   8.0   7.0   6.0      2.0   1.0  Inf   11.0  Inf    8.0\n",
       " Inf   Inf   Inf   Inf   Inf   Inf       1.0  Inf    1.0  Inf   Inf   Inf\n",
       " Inf   Inf   Inf   Inf   Inf   Inf      Inf    1.0  Inf    1.0   1.0  Inf\n",
       "  2.0   1.0   2.0   3.0   4.0   5.0     11.0  Inf    1.0   2.0   1.0   4.0\n",
       " Inf   Inf   Inf   Inf   Inf   Inf   …  Inf   Inf    1.0   1.0  Inf    1.0\n",
       "  3.0   3.0   2.0   1.0   1.0   2.0      8.0  Inf   Inf    4.0   1.0   2.0"
      ]
     },
     "metadata": {},
     "output_type": "display_data"
    },
    {
     "name": "stdout",
     "output_type": "stream",
     "text": [
      "\n",
      "\n",
      "Matrix A^k with k as 21\n",
      "Current dist:\n"
     ]
    },
    {
     "data": {
      "text/plain": [
       "27×27 Matrix{Float64}:\n",
       "  2.0   1.0   1.0   2.0   3.0   4.0  …  10.0  Inf   Inf    2.0  Inf    3.0\n",
       "  1.0   2.0   1.0   2.0   3.0   4.0     10.0  Inf   Inf    1.0  Inf    3.0\n",
       "  1.0   1.0   2.0   1.0   2.0   3.0      9.0  Inf   Inf    2.0  Inf    2.0\n",
       "  2.0   2.0   1.0   2.0   1.0   2.0      8.0  Inf   Inf    3.0  Inf    1.0\n",
       "  3.0   3.0   2.0   1.0   2.0   1.0      7.0  Inf   Inf    4.0  Inf    1.0\n",
       "  4.0   4.0   3.0   2.0   1.0   2.0  …   6.0  Inf   Inf    5.0  Inf    2.0\n",
       "  5.0   5.0   4.0   3.0   2.0   1.0      5.0  Inf   Inf    6.0  Inf    3.0\n",
       "  6.0   6.0   5.0   4.0   3.0   2.0      4.0  Inf   Inf    7.0  Inf    4.0\n",
       "  7.0   7.0   6.0   5.0   4.0   3.0      4.0  Inf   Inf    8.0  Inf    5.0\n",
       "  7.0   7.0   6.0   5.0   4.0   3.0      5.0  Inf   Inf    8.0  Inf    5.0\n",
       "  7.0   7.0   6.0   5.0   4.0   3.0  …   6.0  Inf   Inf    8.0  Inf    5.0\n",
       "  6.0   6.0   5.0   4.0   3.0   2.0      6.0  Inf   Inf    7.0  Inf    4.0\n",
       "  5.0   5.0   4.0   3.0   2.0   1.0      6.0  Inf   Inf    6.0  Inf    3.0\n",
       "  ⋮                             ⋮    ⋱                           ⋮    \n",
       "  9.0   9.0   8.0   7.0   6.0   5.0  …   1.0  Inf   Inf   10.0  Inf    7.0\n",
       "  9.0   9.0   8.0   7.0   6.0   5.0      2.0  Inf   Inf   10.0  Inf    7.0\n",
       " 10.0  10.0   9.0   8.0   7.0   6.0      3.0  Inf   Inf   11.0  Inf    8.0\n",
       " 11.0  11.0  10.0   9.0   8.0   7.0      4.0  Inf   Inf   12.0  Inf    9.0\n",
       " 11.0  11.0  10.0   9.0   8.0   7.0      4.0  Inf   Inf   12.0  Inf    9.0\n",
       " 12.0  12.0  11.0  10.0   9.0   8.0  …   1.0   1.0  Inf   13.0  Inf   10.0\n",
       " 10.0  10.0   9.0   8.0   7.0   6.0      2.0   1.0  Inf   11.0  Inf    8.0\n",
       " Inf   Inf   Inf   Inf   Inf   Inf       1.0  Inf    1.0  Inf   Inf   Inf\n",
       " Inf   Inf   Inf   Inf   Inf   Inf      Inf    1.0  Inf    1.0   1.0  Inf\n",
       "  2.0   1.0   2.0   3.0   4.0   5.0     11.0  Inf    1.0   2.0   1.0   4.0\n",
       " Inf   Inf   Inf   Inf   Inf   Inf   …  Inf   Inf    1.0   1.0  Inf    1.0\n",
       "  3.0   3.0   2.0   1.0   1.0   2.0      8.0  Inf   Inf    4.0   1.0   2.0"
      ]
     },
     "metadata": {},
     "output_type": "display_data"
    },
    {
     "name": "stdout",
     "output_type": "stream",
     "text": [
      "\n",
      "\n",
      "Matrix A^k with k as 22\n",
      "Current dist:\n"
     ]
    },
    {
     "data": {
      "text/plain": [
       "27×27 Matrix{Float64}:\n",
       "  2.0   1.0   1.0   2.0   3.0   4.0  …  10.0  13.0  Inf    2.0  Inf    3.0\n",
       "  1.0   2.0   1.0   2.0   3.0   4.0     10.0  13.0  Inf    1.0  Inf    3.0\n",
       "  1.0   1.0   2.0   1.0   2.0   3.0      9.0  12.0  Inf    2.0  Inf    2.0\n",
       "  2.0   2.0   1.0   2.0   1.0   2.0      8.0  11.0  Inf    3.0  Inf    1.0\n",
       "  3.0   3.0   2.0   1.0   2.0   1.0      7.0  10.0  Inf    4.0  Inf    1.0\n",
       "  4.0   4.0   3.0   2.0   1.0   2.0  …   6.0   9.0  Inf    5.0  Inf    2.0\n",
       "  5.0   5.0   4.0   3.0   2.0   1.0      5.0   8.0  Inf    6.0  Inf    3.0\n",
       "  6.0   6.0   5.0   4.0   3.0   2.0      4.0   7.0  Inf    7.0  Inf    4.0\n",
       "  7.0   7.0   6.0   5.0   4.0   3.0      4.0   7.0  Inf    8.0  Inf    5.0\n",
       "  7.0   7.0   6.0   5.0   4.0   3.0      5.0   8.0  Inf    8.0  Inf    5.0\n",
       "  7.0   7.0   6.0   5.0   4.0   3.0  …   6.0   9.0  Inf    8.0  Inf    5.0\n",
       "  6.0   6.0   5.0   4.0   3.0   2.0      6.0   9.0  Inf    7.0  Inf    4.0\n",
       "  5.0   5.0   4.0   3.0   2.0   1.0      6.0   9.0  Inf    6.0  Inf    3.0\n",
       "  ⋮                             ⋮    ⋱                           ⋮    \n",
       "  9.0   9.0   8.0   7.0   6.0   5.0  …   1.0   5.0  Inf   10.0  Inf    7.0\n",
       "  9.0   9.0   8.0   7.0   6.0   5.0      2.0   4.0  Inf   10.0  Inf    7.0\n",
       " 10.0  10.0   9.0   8.0   7.0   6.0      3.0   3.0  Inf   11.0  Inf    8.0\n",
       " 11.0  11.0  10.0   9.0   8.0   7.0      3.0   3.0  Inf   12.0  Inf    9.0\n",
       " 11.0  11.0  10.0   9.0   8.0   7.0      2.0   2.0  Inf   12.0  Inf    9.0\n",
       " 12.0  12.0  11.0  10.0   9.0   8.0  …   1.0   1.0  Inf   13.0  Inf   10.0\n",
       " 10.0  10.0   9.0   8.0   7.0   6.0      2.0   1.0  Inf   11.0  Inf    8.0\n",
       " 13.0  13.0  12.0  11.0  10.0   9.0      1.0   2.0   1.0  14.0  Inf   11.0\n",
       " Inf   Inf   Inf   Inf   Inf   Inf      Inf    1.0  Inf    1.0   1.0  Inf\n",
       "  2.0   1.0   2.0   3.0   4.0   5.0     11.0  14.0   1.0   2.0   1.0   4.0\n",
       " Inf   Inf   Inf   Inf   Inf   Inf   …  Inf   Inf    1.0   1.0  Inf    1.0\n",
       "  3.0   3.0   2.0   1.0   1.0   2.0      8.0  11.0  Inf    4.0   1.0   2.0"
      ]
     },
     "metadata": {},
     "output_type": "display_data"
    },
    {
     "name": "stdout",
     "output_type": "stream",
     "text": [
      "\n",
      "\n",
      "Matrix A^k with k as 23\n",
      "Current dist:\n"
     ]
    },
    {
     "data": {
      "text/plain": [
       "27×27 Matrix{Float64}:\n",
       "  2.0   1.0   1.0   2.0   3.0   4.0  …  10.0  11.0  Inf    2.0  Inf    3.0\n",
       "  1.0   2.0   1.0   2.0   3.0   4.0     10.0  11.0  Inf    1.0  Inf    3.0\n",
       "  1.0   1.0   2.0   1.0   2.0   3.0      9.0  10.0  Inf    2.0  Inf    2.0\n",
       "  2.0   2.0   1.0   2.0   1.0   2.0      8.0   9.0  Inf    3.0  Inf    1.0\n",
       "  3.0   3.0   2.0   1.0   2.0   1.0      7.0   8.0  Inf    4.0  Inf    1.0\n",
       "  4.0   4.0   3.0   2.0   1.0   2.0  …   6.0   7.0  Inf    5.0  Inf    2.0\n",
       "  5.0   5.0   4.0   3.0   2.0   1.0      5.0   6.0  Inf    6.0  Inf    3.0\n",
       "  6.0   6.0   5.0   4.0   3.0   2.0      4.0   5.0  Inf    7.0  Inf    4.0\n",
       "  7.0   7.0   6.0   5.0   4.0   3.0      4.0   5.0  Inf    8.0  Inf    5.0\n",
       "  7.0   7.0   6.0   5.0   4.0   3.0      5.0   6.0  Inf    8.0  Inf    5.0\n",
       "  7.0   7.0   6.0   5.0   4.0   3.0  …   6.0   7.0  Inf    8.0  Inf    5.0\n",
       "  6.0   6.0   5.0   4.0   3.0   2.0      6.0   7.0  Inf    7.0  Inf    4.0\n",
       "  5.0   5.0   4.0   3.0   2.0   1.0      6.0   7.0  Inf    6.0  Inf    3.0\n",
       "  ⋮                             ⋮    ⋱                           ⋮    \n",
       "  9.0   9.0   8.0   7.0   6.0   5.0  …   1.0   2.0  Inf   10.0  Inf    7.0\n",
       "  9.0   9.0   8.0   7.0   6.0   5.0      2.0   3.0  Inf   10.0  Inf    7.0\n",
       " 10.0  10.0   9.0   8.0   7.0   6.0      3.0   3.0  Inf   11.0  Inf    8.0\n",
       " 11.0  11.0  10.0   9.0   8.0   7.0      3.0   3.0  Inf   12.0  Inf    9.0\n",
       " 11.0  11.0  10.0   9.0   8.0   7.0      2.0   2.0  Inf   12.0  Inf    9.0\n",
       " 11.0  11.0  10.0   9.0   8.0   7.0  …   1.0   1.0  Inf   12.0  Inf    9.0\n",
       " 10.0  10.0   9.0   8.0   7.0   6.0      2.0   1.0  Inf   11.0  Inf    8.0\n",
       " 11.0  11.0  10.0   9.0   8.0   7.0      1.0   2.0   1.0  12.0  Inf    9.0\n",
       " Inf   Inf   Inf   Inf   Inf   Inf      Inf    1.0  Inf    1.0   1.0  Inf\n",
       "  2.0   1.0   2.0   3.0   4.0   5.0     11.0  12.0   1.0   2.0   1.0   4.0\n",
       " Inf   Inf   Inf   Inf   Inf   Inf   …  Inf   Inf    1.0   1.0  Inf    1.0\n",
       "  3.0   3.0   2.0   1.0   1.0   2.0      8.0   9.0  Inf    4.0   1.0   2.0"
      ]
     },
     "metadata": {},
     "output_type": "display_data"
    },
    {
     "name": "stdout",
     "output_type": "stream",
     "text": [
      "\n",
      "\n",
      "Matrix A^k with k as 24\n",
      "Current dist:\n"
     ]
    },
    {
     "data": {
      "text/plain": [
       "27×27 Matrix{Float64}:\n",
       "  2.0   1.0   1.0   2.0   3.0   4.0  …  10.0  11.0  12.0   2.0  Inf    3.0\n",
       "  1.0   2.0   1.0   2.0   3.0   4.0     10.0  11.0  12.0   1.0  Inf    3.0\n",
       "  1.0   1.0   2.0   1.0   2.0   3.0      9.0  10.0  11.0   2.0  Inf    2.0\n",
       "  2.0   2.0   1.0   2.0   1.0   2.0      8.0   9.0  10.0   3.0  Inf    1.0\n",
       "  3.0   3.0   2.0   1.0   2.0   1.0      7.0   8.0   9.0   4.0  Inf    1.0\n",
       "  4.0   4.0   3.0   2.0   1.0   2.0  …   6.0   7.0   8.0   5.0  Inf    2.0\n",
       "  5.0   5.0   4.0   3.0   2.0   1.0      5.0   6.0   7.0   6.0  Inf    3.0\n",
       "  6.0   6.0   5.0   4.0   3.0   2.0      4.0   5.0   6.0   7.0  Inf    4.0\n",
       "  7.0   7.0   6.0   5.0   4.0   3.0      4.0   5.0   6.0   8.0  Inf    5.0\n",
       "  7.0   7.0   6.0   5.0   4.0   3.0      5.0   6.0   7.0   8.0  Inf    5.0\n",
       "  7.0   7.0   6.0   5.0   4.0   3.0  …   6.0   7.0   8.0   8.0  Inf    5.0\n",
       "  6.0   6.0   5.0   4.0   3.0   2.0      6.0   7.0   8.0   7.0  Inf    4.0\n",
       "  5.0   5.0   4.0   3.0   2.0   1.0      6.0   7.0   8.0   6.0  Inf    3.0\n",
       "  ⋮                             ⋮    ⋱                           ⋮    \n",
       "  9.0   9.0   8.0   7.0   6.0   5.0  …   1.0   2.0   3.0  10.0  Inf    7.0\n",
       "  9.0   9.0   8.0   7.0   6.0   5.0      2.0   3.0   4.0  10.0  Inf    7.0\n",
       " 10.0  10.0   9.0   8.0   7.0   6.0      3.0   3.0   4.0  11.0  Inf    8.0\n",
       " 11.0  11.0  10.0   9.0   8.0   7.0      3.0   3.0   4.0  12.0  Inf    9.0\n",
       " 11.0  11.0  10.0   9.0   8.0   7.0      2.0   2.0   3.0  12.0  Inf    9.0\n",
       " 11.0  11.0  10.0   9.0   8.0   7.0  …   1.0   1.0   2.0  12.0  Inf    9.0\n",
       " 10.0  10.0   9.0   8.0   7.0   6.0      2.0   1.0   2.0  11.0  Inf    8.0\n",
       " 11.0  11.0  10.0   9.0   8.0   7.0      1.0   2.0   1.0  12.0  Inf    9.0\n",
       " 12.0  12.0  11.0  10.0   9.0   8.0      2.0   1.0   2.0   1.0   1.0  10.0\n",
       "  2.0   1.0   2.0   3.0   4.0   5.0     11.0  12.0   1.0   2.0   1.0   4.0\n",
       " Inf   Inf   Inf   Inf   Inf   Inf   …  Inf   Inf    1.0   1.0  Inf    1.0\n",
       "  3.0   3.0   2.0   1.0   1.0   2.0      8.0   9.0  10.0   4.0   1.0   2.0"
      ]
     },
     "metadata": {},
     "output_type": "display_data"
    },
    {
     "name": "stdout",
     "output_type": "stream",
     "text": [
      "\n",
      "\n",
      "Matrix A^k with k as 25\n",
      "Current dist:\n"
     ]
    },
    {
     "data": {
      "text/plain": [
       "27×27 Matrix{Float64}:\n",
       "  2.0   1.0   1.0   2.0   3.0  4.0  5.0  …  10.0  11.0  12.0  2.0  13.0   3.0\n",
       "  1.0   2.0   1.0   2.0   3.0  4.0  5.0     10.0  11.0  12.0  1.0  13.0   3.0\n",
       "  1.0   1.0   2.0   1.0   2.0  3.0  4.0      9.0  10.0  11.0  2.0  12.0   2.0\n",
       "  2.0   2.0   1.0   2.0   1.0  2.0  3.0      8.0   9.0  10.0  3.0  11.0   1.0\n",
       "  3.0   3.0   2.0   1.0   2.0  1.0  2.0      7.0   8.0   9.0  4.0  10.0   1.0\n",
       "  4.0   4.0   3.0   2.0   1.0  2.0  1.0  …   6.0   7.0   8.0  5.0   9.0   2.0\n",
       "  5.0   5.0   4.0   3.0   2.0  1.0  2.0      5.0   6.0   7.0  6.0   8.0   3.0\n",
       "  6.0   6.0   5.0   4.0   3.0  2.0  1.0      4.0   5.0   6.0  7.0   7.0   4.0\n",
       "  7.0   7.0   6.0   5.0   4.0  3.0  2.0      4.0   5.0   6.0  7.0   7.0   5.0\n",
       "  7.0   7.0   6.0   5.0   4.0  3.0  3.0      5.0   6.0   7.0  8.0   8.0   5.0\n",
       "  7.0   7.0   6.0   5.0   4.0  3.0  3.0  …   6.0   7.0   8.0  8.0   9.0   5.0\n",
       "  6.0   6.0   5.0   4.0   3.0  2.0  2.0      6.0   7.0   8.0  7.0   9.0   4.0\n",
       "  5.0   5.0   4.0   3.0   2.0  1.0  1.0      6.0   7.0   8.0  6.0   9.0   3.0\n",
       "  ⋮                            ⋮         ⋱                          ⋮    \n",
       "  9.0   9.0   8.0   7.0   6.0  5.0  4.0  …   1.0   2.0   3.0  4.0   4.0   7.0\n",
       "  9.0   9.0   8.0   7.0   6.0  5.0  4.0      2.0   3.0   4.0  5.0   5.0   7.0\n",
       " 10.0  10.0   9.0   8.0   7.0  6.0  5.0      3.0   3.0   4.0  5.0   5.0   8.0\n",
       " 11.0  11.0  10.0   9.0   8.0  7.0  6.0      3.0   3.0   4.0  5.0   5.0   9.0\n",
       " 11.0  11.0  10.0   9.0   8.0  7.0  6.0      2.0   2.0   3.0  4.0   4.0   9.0\n",
       " 11.0  11.0  10.0   9.0   8.0  7.0  6.0  …   1.0   1.0   2.0  3.0   3.0   9.0\n",
       " 10.0  10.0   9.0   8.0   7.0  6.0  5.0      2.0   1.0   2.0  3.0   3.0   8.0\n",
       " 11.0  11.0  10.0   9.0   8.0  7.0  6.0      1.0   2.0   1.0  2.0   2.0   9.0\n",
       " 12.0  12.0  11.0  10.0   9.0  8.0  7.0      2.0   1.0   2.0  1.0   1.0  10.0\n",
       "  2.0   1.0   2.0   3.0   4.0  5.0  6.0      3.0   2.0   1.0  2.0   1.0   4.0\n",
       " 13.0  13.0  12.0  11.0  10.0  9.0  8.0  …   3.0   2.0   1.0  1.0   2.0   1.0\n",
       "  3.0   3.0   2.0   1.0   1.0  2.0  3.0      8.0   9.0  10.0  4.0   1.0   2.0"
      ]
     },
     "metadata": {},
     "output_type": "display_data"
    },
    {
     "name": "stdout",
     "output_type": "stream",
     "text": [
      "\n",
      "\n",
      "Matrix A^k with k as 26\n",
      "Current dist:\n"
     ]
    },
    {
     "data": {
      "text/plain": [
       "27×27 Matrix{Float64}:\n",
       " 2.0  1.0  1.0  2.0  3.0  4.0  5.0  6.0  …  5.0  5.0  4.0  3.0  2.0  3.0  3.0\n",
       " 1.0  2.0  1.0  2.0  3.0  4.0  5.0  6.0     4.0  4.0  3.0  2.0  1.0  2.0  3.0\n",
       " 1.0  1.0  2.0  1.0  2.0  3.0  4.0  5.0     5.0  5.0  4.0  3.0  2.0  3.0  2.0\n",
       " 2.0  2.0  1.0  2.0  1.0  2.0  3.0  4.0     6.0  6.0  5.0  4.0  3.0  4.0  1.0\n",
       " 3.0  3.0  2.0  1.0  2.0  1.0  2.0  3.0     7.0  7.0  6.0  5.0  4.0  5.0  1.0\n",
       " 4.0  4.0  3.0  2.0  1.0  2.0  1.0  2.0  …  7.0  6.0  7.0  6.0  5.0  6.0  2.0\n",
       " 5.0  5.0  4.0  3.0  2.0  1.0  2.0  1.0     6.0  5.0  6.0  7.0  6.0  7.0  3.0\n",
       " 6.0  6.0  5.0  4.0  3.0  2.0  1.0  2.0     5.0  4.0  5.0  6.0  7.0  7.0  4.0\n",
       " 7.0  7.0  6.0  5.0  4.0  3.0  2.0  1.0     5.0  4.0  5.0  6.0  7.0  7.0  5.0\n",
       " 7.0  7.0  6.0  5.0  4.0  3.0  3.0  2.0     6.0  5.0  6.0  7.0  8.0  8.0  5.0\n",
       " 7.0  7.0  6.0  5.0  4.0  3.0  3.0  3.0  …  7.0  6.0  7.0  8.0  8.0  9.0  5.0\n",
       " 6.0  6.0  5.0  4.0  3.0  2.0  2.0  3.0     7.0  6.0  7.0  8.0  7.0  8.0  4.0\n",
       " 5.0  5.0  4.0  3.0  2.0  1.0  1.0  2.0     7.0  6.0  7.0  7.0  6.0  7.0  3.0\n",
       " ⋮                        ⋮              ⋱  ⋮                        ⋮    \n",
       " 6.0  5.0  6.0  7.0  6.0  5.0  4.0  3.0  …  2.0  1.0  2.0  3.0  4.0  4.0  7.0\n",
       " 7.0  6.0  7.0  7.0  6.0  5.0  4.0  3.0     3.0  2.0  3.0  4.0  5.0  5.0  7.0\n",
       " 7.0  6.0  7.0  8.0  7.0  6.0  5.0  4.0     2.0  3.0  3.0  4.0  5.0  5.0  8.0\n",
       " 7.0  6.0  7.0  8.0  8.0  7.0  6.0  5.0     2.0  3.0  3.0  4.0  5.0  5.0  9.0\n",
       " 6.0  5.0  6.0  7.0  8.0  7.0  6.0  5.0     1.0  2.0  2.0  3.0  4.0  4.0  8.0\n",
       " 5.0  4.0  5.0  6.0  7.0  7.0  6.0  5.0  …  2.0  1.0  1.0  2.0  3.0  3.0  7.0\n",
       " 5.0  4.0  5.0  6.0  7.0  6.0  5.0  4.0     1.0  2.0  1.0  2.0  3.0  3.0  7.0\n",
       " 4.0  3.0  4.0  5.0  6.0  7.0  6.0  5.0     1.0  1.0  2.0  1.0  2.0  2.0  6.0\n",
       " 3.0  2.0  3.0  4.0  5.0  6.0  7.0  6.0     2.0  2.0  1.0  2.0  1.0  1.0  5.0\n",
       " 2.0  1.0  2.0  3.0  4.0  5.0  6.0  7.0     3.0  3.0  2.0  1.0  2.0  1.0  4.0\n",
       " 3.0  2.0  3.0  4.0  5.0  6.0  7.0  7.0  …  3.0  3.0  2.0  1.0  1.0  2.0  1.0\n",
       " 3.0  3.0  2.0  1.0  1.0  2.0  3.0  4.0     7.0  7.0  6.0  5.0  4.0  1.0  2.0"
      ]
     },
     "metadata": {},
     "output_type": "display_data"
    },
    {
     "name": "stdout",
     "output_type": "stream",
     "text": [
      "\n",
      "\n",
      "Matrix A^k with k as 27\n",
      "Current dist:\n"
     ]
    },
    {
     "data": {
      "text/plain": [
       "27×27 Matrix{Float64}:\n",
       " 2.0  1.0  1.0  2.0  3.0  4.0  5.0  6.0  …  5.0  5.0  4.0  3.0  2.0  3.0  3.0\n",
       " 1.0  2.0  1.0  2.0  3.0  4.0  5.0  6.0     4.0  4.0  3.0  2.0  1.0  2.0  3.0\n",
       " 1.0  1.0  2.0  1.0  2.0  3.0  4.0  5.0     5.0  5.0  4.0  3.0  2.0  3.0  2.0\n",
       " 2.0  2.0  1.0  2.0  1.0  2.0  3.0  4.0     6.0  6.0  5.0  4.0  3.0  4.0  1.0\n",
       " 3.0  3.0  2.0  1.0  2.0  1.0  2.0  3.0     7.0  7.0  6.0  5.0  4.0  5.0  1.0\n",
       " 4.0  4.0  3.0  2.0  1.0  2.0  1.0  2.0  …  7.0  6.0  7.0  6.0  5.0  6.0  2.0\n",
       " 5.0  5.0  4.0  3.0  2.0  1.0  2.0  1.0     6.0  5.0  6.0  7.0  6.0  7.0  3.0\n",
       " 6.0  6.0  5.0  4.0  3.0  2.0  1.0  2.0     5.0  4.0  5.0  6.0  7.0  7.0  4.0\n",
       " 7.0  7.0  6.0  5.0  4.0  3.0  2.0  1.0     5.0  4.0  5.0  6.0  7.0  7.0  5.0\n",
       " 7.0  7.0  6.0  5.0  4.0  3.0  3.0  2.0     6.0  5.0  6.0  7.0  8.0  8.0  5.0\n",
       " 7.0  7.0  6.0  5.0  4.0  3.0  3.0  3.0  …  7.0  6.0  7.0  8.0  8.0  9.0  5.0\n",
       " 6.0  6.0  5.0  4.0  3.0  2.0  2.0  3.0     7.0  6.0  7.0  8.0  7.0  8.0  4.0\n",
       " 5.0  5.0  4.0  3.0  2.0  1.0  1.0  2.0     7.0  6.0  7.0  7.0  6.0  7.0  3.0\n",
       " ⋮                        ⋮              ⋱  ⋮                        ⋮    \n",
       " 6.0  5.0  6.0  7.0  6.0  5.0  4.0  3.0  …  2.0  1.0  2.0  3.0  4.0  4.0  5.0\n",
       " 7.0  6.0  7.0  7.0  6.0  5.0  4.0  3.0     3.0  2.0  3.0  4.0  5.0  5.0  6.0\n",
       " 7.0  6.0  7.0  8.0  7.0  6.0  5.0  4.0     2.0  3.0  3.0  4.0  5.0  5.0  6.0\n",
       " 7.0  6.0  7.0  8.0  8.0  7.0  6.0  5.0     2.0  3.0  3.0  4.0  5.0  5.0  6.0\n",
       " 6.0  5.0  6.0  7.0  8.0  7.0  6.0  5.0     1.0  2.0  2.0  3.0  4.0  4.0  5.0\n",
       " 5.0  4.0  5.0  6.0  7.0  7.0  6.0  5.0  …  2.0  1.0  1.0  2.0  3.0  3.0  4.0\n",
       " 5.0  4.0  5.0  6.0  7.0  6.0  5.0  4.0     1.0  2.0  1.0  2.0  3.0  3.0  4.0\n",
       " 4.0  3.0  4.0  5.0  6.0  7.0  6.0  5.0     1.0  1.0  2.0  1.0  2.0  2.0  3.0\n",
       " 3.0  2.0  3.0  4.0  5.0  6.0  7.0  6.0     2.0  2.0  1.0  2.0  1.0  1.0  2.0\n",
       " 2.0  1.0  2.0  3.0  4.0  5.0  6.0  7.0     3.0  3.0  2.0  1.0  2.0  1.0  2.0\n",
       " 3.0  2.0  3.0  4.0  5.0  6.0  7.0  7.0  …  3.0  3.0  2.0  1.0  1.0  2.0  1.0\n",
       " 3.0  3.0  2.0  1.0  1.0  2.0  3.0  4.0     4.0  4.0  3.0  2.0  2.0  1.0  2.0"
      ]
     },
     "metadata": {},
     "output_type": "display_data"
    },
    {
     "name": "stdout",
     "output_type": "stream",
     "text": [
      "\n",
      "\n",
      "\n",
      " Matrix after applying Floyd Warshall: \n"
     ]
    },
    {
     "data": {
      "text/plain": [
       "27×27 Matrix{Float64}:\n",
       " 2.0  1.0  1.0  2.0  3.0  4.0  5.0  6.0  …  5.0  5.0  4.0  3.0  2.0  3.0  3.0\n",
       " 1.0  2.0  1.0  2.0  3.0  4.0  5.0  6.0     4.0  4.0  3.0  2.0  1.0  2.0  3.0\n",
       " 1.0  1.0  2.0  1.0  2.0  3.0  4.0  5.0     5.0  5.0  4.0  3.0  2.0  3.0  2.0\n",
       " 2.0  2.0  1.0  2.0  1.0  2.0  3.0  4.0     5.0  5.0  4.0  3.0  3.0  2.0  1.0\n",
       " 3.0  3.0  2.0  1.0  2.0  1.0  2.0  3.0     5.0  5.0  4.0  3.0  3.0  2.0  1.0\n",
       " 4.0  4.0  3.0  2.0  1.0  2.0  1.0  2.0  …  6.0  6.0  5.0  4.0  4.0  3.0  2.0\n",
       " 5.0  5.0  4.0  3.0  2.0  1.0  2.0  1.0     6.0  5.0  6.0  5.0  5.0  4.0  3.0\n",
       " 6.0  6.0  5.0  4.0  3.0  2.0  1.0  2.0     5.0  4.0  5.0  6.0  6.0  5.0  4.0\n",
       " 7.0  7.0  6.0  5.0  4.0  3.0  2.0  1.0     5.0  4.0  5.0  6.0  7.0  6.0  5.0\n",
       " 7.0  7.0  6.0  5.0  4.0  3.0  3.0  2.0     6.0  5.0  6.0  7.0  7.0  6.0  5.0\n",
       " 7.0  7.0  6.0  5.0  4.0  3.0  3.0  3.0  …  7.0  6.0  7.0  7.0  7.0  6.0  5.0\n",
       " 6.0  6.0  5.0  4.0  3.0  2.0  2.0  3.0     7.0  6.0  7.0  6.0  6.0  5.0  4.0\n",
       " 5.0  5.0  4.0  3.0  2.0  1.0  1.0  2.0     7.0  6.0  6.0  5.0  5.0  4.0  3.0\n",
       " ⋮                        ⋮              ⋱  ⋮                        ⋮    \n",
       " 6.0  5.0  6.0  6.0  6.0  5.0  4.0  3.0  …  2.0  1.0  2.0  3.0  4.0  4.0  5.0\n",
       " 7.0  6.0  7.0  7.0  6.0  5.0  4.0  3.0     3.0  2.0  3.0  4.0  5.0  5.0  6.0\n",
       " 7.0  6.0  7.0  7.0  7.0  6.0  5.0  4.0     2.0  3.0  3.0  4.0  5.0  5.0  6.0\n",
       " 7.0  6.0  7.0  7.0  7.0  7.0  6.0  5.0     2.0  3.0  3.0  4.0  5.0  5.0  6.0\n",
       " 6.0  5.0  6.0  6.0  6.0  7.0  6.0  5.0     1.0  2.0  2.0  3.0  4.0  4.0  5.0\n",
       " 5.0  4.0  5.0  5.0  5.0  6.0  6.0  5.0  …  2.0  1.0  1.0  2.0  3.0  3.0  4.0\n",
       " 5.0  4.0  5.0  5.0  5.0  6.0  5.0  4.0     1.0  2.0  1.0  2.0  3.0  3.0  4.0\n",
       " 4.0  3.0  4.0  4.0  4.0  5.0  6.0  5.0     1.0  1.0  2.0  1.0  2.0  2.0  3.0\n",
       " 3.0  2.0  3.0  3.0  3.0  4.0  5.0  6.0     2.0  2.0  1.0  2.0  1.0  1.0  2.0\n",
       " 2.0  1.0  2.0  3.0  3.0  4.0  5.0  6.0     3.0  3.0  2.0  1.0  2.0  1.0  2.0\n",
       " 3.0  2.0  3.0  2.0  2.0  3.0  4.0  5.0  …  3.0  3.0  2.0  1.0  1.0  2.0  1.0\n",
       " 3.0  3.0  2.0  1.0  1.0  2.0  3.0  4.0     4.0  4.0  3.0  2.0  2.0  1.0  2.0"
      ]
     },
     "metadata": {},
     "output_type": "display_data"
    },
    {
     "name": "stdout",
     "output_type": "stream",
     "text": [
      "\n",
      "\n"
     ]
    },
    {
     "data": {
      "text/plain": [
       "minMoves (generic function with 1 method)"
      ]
     },
     "execution_count": 19,
     "metadata": {},
     "output_type": "execute_result"
    }
   ],
   "source": [
    "function FloydWarshall(dist)\n",
    "    println(\"Initial Adjacency matrix: \")\n",
    "    display(dist)\n",
    "    println(\"\\n\")\n",
    "    n=length(all_states)\n",
    "    for k in 1:n\n",
    "        println(\"Matrix A^k with k as \",k)\n",
    "        println(\"Current dist:\")\n",
    "        display(dist)\n",
    "        println(\"\\n\")\n",
    "        for i in 1:n\n",
    "            for j in 1:n \n",
    "                dist[i,j] = min(dist[i,j], dist[i,k] + dist[k,j])\n",
    "            end\n",
    "        end\n",
    "\n",
    "    end\n",
    "    println(\"\\n Matrix after applying Floyd Warshall: \")\n",
    "    display(dist)\n",
    "    println(\"\\n\")\n",
    "    return dist\n",
    "end\n",
    "\n",
    "M=fill(Inf,length(all_states),length(all_states))\n",
    "for i in 1:length(all_states)\n",
    "    for j in 1:length(all_states)\n",
    "        M[i,j]= all_states[j] in neighbour(all_states[i]) ? 1 : Inf\n",
    "    end\n",
    "end\n",
    "\n",
    "minDistMat=FloydWarshall(M)\n",
    "\n",
    "\n",
    "function minMoves(State1,State2,M)\n",
    "    i=findall(x->x==State1,all_states)[1]\n",
    "    j=findall(x->x==State2,all_states)[1]\n",
    "    return M[i,j]\n",
    "end"
   ]
  },
  {
   "cell_type": "code",
   "execution_count": 33,
   "metadata": {
    "scrolled": true
   },
   "outputs": [
    {
     "name": "stdout",
     "output_type": "stream",
     "text": [
      "Shortest path from 1 to 11: Any[1, 3, 4, 5, 6, 13, 12, 11]\n"
     ]
    }
   ],
   "source": [
    "\n",
    "function dijkstra_with_path(graph, start)\n",
    "    n = length(graph)\n",
    "    visited = falses(n)\n",
    "    dist = fill(Inf, n)\n",
    "    dist[start] = 0\n",
    "    prev = fill(0, n)\n",
    "\n",
    "    pq = PriorityQueue()\n",
    "    enqueue!(pq, start, 0)\n",
    "\n",
    "    while !isempty(pq)\n",
    "        current = dequeue!(pq)\n",
    "\n",
    "        if visited[current]\n",
    "            continue\n",
    "        end\n",
    "\n",
    "        visited[current] = true\n",
    "\n",
    "        for (neighbor, weight) in graph[current]\n",
    "            if !visited[neighbor]\n",
    "                alt = dist[current] + weight\n",
    "                if alt < dist[neighbor]\n",
    "                    dist[neighbor] = alt\n",
    "                    prev[neighbor] = current\n",
    "                    enqueue!(pq, neighbor, alt)\n",
    "                end\n",
    "            end\n",
    "        end\n",
    "    end\n",
    "\n",
    "    return dist, prev\n",
    "end\n",
    "\n",
    "function reconstruct_path(prev, start, target)\n",
    "    path = []\n",
    "    current = target\n",
    "    while current != start\n",
    "        push!(path, current)\n",
    "        current = prev[current]\n",
    "        if current == 0\n",
    "            return \"No path\"\n",
    "        end\n",
    "    end\n",
    "    push!(path, start)\n",
    "    return reverse(path)\n",
    "end\n",
    "\n",
    "# Example graph\n",
    "graph=Dict(state_to_ix[init_state]=>[(state_to_ix[to_state],1) for to_state in neighbour(init_state)] for init_state in all_states)\n",
    "\n",
    "start_node = state_to_ix[State];\n",
    "end_node = state_to_ix[finalState];\n",
    "\n",
    "distances, predecessors = dijkstra_with_path(graph, start_node)\n",
    "path = reconstruct_path(predecessors, start_node, end_node)\n",
    "\n",
    "println(\"Shortest path from $start_node to $end_node: \", path)\n"
   ]
  },
  {
   "cell_type": "code",
   "execution_count": 35,
   "metadata": {},
   "outputs": [
    {
     "data": {
      "text/plain": [
       "8-element Vector{Vector{Vector{Any}}}:\n",
       " [[1, 2, 3], [], []]\n",
       " [[2, 3], [1], []]\n",
       " [[3], [1], [2]]\n",
       " [[3], [], [1, 2]]\n",
       " [[], [3], [1, 2]]\n",
       " [[1], [3], [2]]\n",
       " [[1], [2, 3], []]\n",
       " [[], [1, 2, 3], []]"
      ]
     },
     "execution_count": 35,
     "metadata": {},
     "output_type": "execute_result"
    }
   ],
   "source": [
    "[ix_to_state[t] for t in path]"
   ]
  },
  {
   "cell_type": "code",
   "execution_count": 36,
   "metadata": {},
   "outputs": [
    {
     "data": {
      "text/plain": [
       "8-element Vector{Any}:\n",
       "  1\n",
       "  3\n",
       "  4\n",
       "  5\n",
       "  6\n",
       " 13\n",
       " 12\n",
       " 11"
      ]
     },
     "execution_count": 36,
     "metadata": {},
     "output_type": "execute_result"
    }
   ],
   "source": [
    "path"
   ]
  },
  {
   "cell_type": "code",
   "execution_count": null,
   "metadata": {},
   "outputs": [],
   "source": []
  }
 ],
 "metadata": {
  "kernelspec": {
   "display_name": "Julia 1.8.2",
   "language": "julia",
   "name": "julia-1.8"
  },
  "language_info": {
   "file_extension": ".jl",
   "mimetype": "application/julia",
   "name": "julia",
   "version": "1.8.2"
  }
 },
 "nbformat": 4,
 "nbformat_minor": 4
}
