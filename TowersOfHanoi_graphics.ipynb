{
 "cells": [
  {
   "cell_type": "code",
   "execution_count": 2,
   "metadata": {},
   "outputs": [
    {
     "data": {
      "text/plain": [
       "move_disk (generic function with 1 method)"
      ]
     },
     "execution_count": 2,
     "metadata": {},
     "output_type": "execute_result"
    }
   ],
   "source": [
    "# Define the number of disks and initialize the towers\n",
    "const NUM_DISKS = 3\n",
    "const TOWER_WIDTH = 20\n",
    "const TOWER_HEIGHT = 200\n",
    "const DISK_HEIGHT = 20\n",
    "const DISK_WIDTH_FACTOR = 20\n",
    "\n",
    "const colors = [\"red\", \"green\", \"blue\", \"yellow\", \"purple\"]\n",
    "\n",
    "const tower_positions = [(50, 250), (250, 250), (450, 250)]\n",
    "const tower_heights = [0, 0, 0]\n",
    "const disk_positions = [(0, 0) for _ in 1:NUM_DISKS]\n",
    "const disk_sizes = [DISK_WIDTH_FACTOR * i for i in 1:NUM_DISKS]\n",
    "const disk_towers = [1 for _ in 1:NUM_DISKS]\n",
    "\n",
    "function draw_towers(cr)\n",
    "    set_source_rgb(cr, 0, 0, 0)\n",
    "    rectangle(cr, 30, 50, 20, TOWER_HEIGHT)\n",
    "    rectangle(cr, 230, 50, 20, TOWER_HEIGHT)\n",
    "    rectangle(cr, 430, 50, 20, TOWER_HEIGHT)\n",
    "    stroke(cr)\n",
    "end\n",
    "\n",
    "function draw_disk(cr, i)\n",
    "    set_source_rgb(cr, 1, 0, 0)\n",
    "    rectangle(cr, disk_positions[i]..., disk_sizes[i], DISK_HEIGHT)\n",
    "    fill(cr)\n",
    "end\n",
    "\n",
    "function draw_game_area(cr)\n",
    "    for i in 1:NUM_DISKS\n",
    "        draw_disk(cr, i)\n",
    "    end\n",
    "    draw_towers(cr)\n",
    "end\n",
    "\n",
    "function on_draw(widget, cr)\n",
    "    draw_game_area(cr)\n",
    "    return false\n",
    "end\n",
    "\n",
    "function hanoi(n, source, auxiliary, target)\n",
    "    if n > 0\n",
    "        hanoi(n-1, source, target, auxiliary)\n",
    "        disk_towers[n] = target\n",
    "        hanoi(n-1, auxiliary, source, target)\n",
    "    end\n",
    "end\n",
    "\n",
    "function move_disk()\n",
    "    hanoi(NUM_DISKS, 1, 2, 3)\n",
    "    for i in 1:NUM_DISKS\n",
    "        target_tower = disk_towers[i]\n",
    "        disk_height = tower_heights[target_tower]\n",
    "        disk_positions[i] = (tower_positions[target_tower][1] - disk_sizes[i] / 2,\n",
    "                             tower_positions[target_tower][2] - disk_height - DISK_HEIGHT)\n",
    "        tower_heights[target_tower] += DISK_HEIGHT\n",
    "    end\n",
    "    queue_draw()\n",
    "end"
   ]
  },
  {
   "cell_type": "code",
   "execution_count": 19,
   "metadata": {},
   "outputs": [
    {
     "name": "stderr",
     "output_type": "stream",
     "text": [
      "\n",
      "(<unknown>:22354): Gtk-WARNING **: 02:24:31.664: Attempting to add a widget with type GtkButton to a GtkWindow, but as a GtkBin subclass a GtkWindow can only contain one widget at a time; it already contains a widget of type GtkDrawingArea\n"
     ]
    },
    {
     "ename": "LoadError",
     "evalue": "UndefVarError: main not defined",
     "output_type": "error",
     "traceback": [
      "UndefVarError: main not defined",
      "",
      "Stacktrace:",
      " [1] main()",
      "   @ Main ./In[19]:21",
      " [2] top-level scope",
      "   @ In[19]:24",
      " [3] eval",
      "   @ ./boot.jl:368 [inlined]",
      " [4] include_string(mapexpr::typeof(REPL.softscope), mod::Module, code::String, filename::String)",
      "   @ Base ./loading.jl:1428"
     ]
    },
    {
     "name": "stdout",
     "output_type": "stream",
     "text": [
      "\n"
     ]
    },
    {
     "name": "stderr",
     "output_type": "stream",
     "text": [
      "┌ Warning: Executing #57:\n",
      "└ @ Gtk.GLib /Users/shreeyeshmenon/.julia/packages/Gtk/oo3cW/src/GLib/signals.jl:106\n",
      "\u001b[91m\u001b[1mERROR: \u001b[22m\u001b[39mUndefVarError: main_quit not defined\n",
      "Stacktrace:\n",
      " [1] \u001b[0m\u001b[1m(::var\"#57#60\")\u001b[22m\u001b[0m\u001b[1m(\u001b[22m\u001b[90mwidget\u001b[39m::\u001b[0mGtkWindowLeaf\u001b[0m\u001b[1m)\u001b[22m\n",
      "\u001b[90m   @ \u001b[39m\u001b[35mMain\u001b[39m \u001b[90m./\u001b[39m\u001b[90m\u001b[4mIn[19]:7\u001b[24m\u001b[39m\n",
      " [2] \u001b[0m\u001b[1m(::Gtk.GLib.var\"#90#92\"{Ptr{Gtk.GLib.GValue}, UInt32, Ptr{Gtk.GLib.GValue}, Vector{Any}, Bool, var\"#57#60\", Ptr{Any}})\u001b[22m\u001b[0m\u001b[1m(\u001b[22m\u001b[0m\u001b[1m)\u001b[22m\n",
      "\u001b[90m   @ \u001b[39m\u001b[36mGtk.GLib\u001b[39m \u001b[90m~/.julia/packages/Gtk/oo3cW/src/GLib/\u001b[39m\u001b[90m\u001b[4msignals.jl:87\u001b[24m\u001b[39m\n",
      " [3] \u001b[0m\u001b[1mg_siginterruptible\u001b[22m\u001b[0m\u001b[1m(\u001b[22m\u001b[90mf\u001b[39m::\u001b[0mGtk.GLib.var\"#90#92\"\u001b[90m{Ptr{Gtk.GLib.GValue}, UInt32, Ptr{Gtk.GLib.GValue}, Vector{Any}, Bool, var\"#57#60\", Ptr{Any}}\u001b[39m, \u001b[90mcb\u001b[39m::\u001b[0mAny\u001b[0m\u001b[1m)\u001b[22m\n",
      "\u001b[90m   @ \u001b[39m\u001b[36mGtk.GLib\u001b[39m \u001b[90m~/.julia/packages/Gtk/oo3cW/src/GLib/\u001b[39m\u001b[90m\u001b[4msignals.jl:216\u001b[24m\u001b[39m\n",
      " [4] \u001b[0m\u001b[1mGClosureMarshal\u001b[22m\u001b[0m\u001b[1m(\u001b[22m\u001b[90mclosuref\u001b[39m::\u001b[0mPtr\u001b[90m{Nothing}\u001b[39m, \u001b[90mreturn_value\u001b[39m::\u001b[0mPtr\u001b[90m{Gtk.GLib.GValue}\u001b[39m, \u001b[90mn_param_values\u001b[39m::\u001b[0mUInt32, \u001b[90mparam_values\u001b[39m::\u001b[0mPtr\u001b[90m{Gtk.GLib.GValue}\u001b[39m, \u001b[90minvocation_hint\u001b[39m::\u001b[0mPtr\u001b[90m{Nothing}\u001b[39m, \u001b[90mmarshal_data\u001b[39m::\u001b[0mPtr\u001b[90m{Nothing}\u001b[39m\u001b[0m\u001b[1m)\u001b[22m\n",
      "\u001b[90m   @ \u001b[39m\u001b[36mGtk.GLib\u001b[39m \u001b[90m~/.julia/packages/Gtk/oo3cW/src/GLib/\u001b[39m\u001b[90m\u001b[4msignals.jl:58\u001b[24m\u001b[39m\n",
      " [5] \u001b[0m\u001b[1m(::Gtk.var\"#253#254\")\u001b[22m\u001b[0m\u001b[1m(\u001b[22m\u001b[0m\u001b[1m)\u001b[22m\n",
      "\u001b[90m   @ \u001b[39m\u001b[36mGtk\u001b[39m \u001b[90m~/.julia/packages/Gtk/oo3cW/src/\u001b[39m\u001b[90m\u001b[4mevents.jl:2\u001b[24m\u001b[39m\n",
      " [6] \u001b[0m\u001b[1mg_sigatom\u001b[22m\u001b[0m\u001b[1m(\u001b[22m\u001b[90mf\u001b[39m::\u001b[0mAny\u001b[0m\u001b[1m)\u001b[22m\n",
      "\u001b[90m   @ \u001b[39m\u001b[36mGtk.GLib\u001b[39m \u001b[90m~/.julia/packages/Gtk/oo3cW/src/GLib/\u001b[39m\u001b[90m\u001b[4msignals.jl:176\u001b[24m\u001b[39m\n",
      " [7] \u001b[0m\u001b[1mgtk_main\u001b[22m\u001b[0m\u001b[1m(\u001b[22m\u001b[0m\u001b[1m)\u001b[22m\n",
      "\u001b[90m   @ \u001b[39m\u001b[36mGtk\u001b[39m \u001b[90m~/.julia/packages/Gtk/oo3cW/src/\u001b[39m\u001b[90m\u001b[4mevents.jl:1\u001b[24m\u001b[39m\n"
     ]
    }
   ],
   "source": [
    "function main()\n",
    "    win = Gtk.Window(\"Towers of Hanoi\",500, 500)\n",
    "    canvas = @GtkCanvas()\n",
    "    push!(win, canvas)\n",
    "    \n",
    "    signal_connect(win, \"destroy\") do widget\n",
    "        Gtk.main_quit()\n",
    "    end\n",
    "    \n",
    "    signal_connect(canvas, \"draw\") do widget, cr\n",
    "        on_draw(widget, cr)\n",
    "    end\n",
    "    \n",
    "    move_button = Gtk.Button(\"Move Disk\")\n",
    "    push!(win, move_button)\n",
    "    \n",
    "    signal_connect(move_button, \"clicked\") do widget\n",
    "        move_disk()\n",
    "    end\n",
    "        \n",
    "    Gtk.main()\n",
    "end\n",
    "\n",
    "main()"
   ]
  },
  {
   "cell_type": "code",
   "execution_count": null,
   "metadata": {},
   "outputs": [],
   "source": []
  }
 ],
 "metadata": {
  "kernelspec": {
   "display_name": "Julia 1.8.2",
   "language": "julia",
   "name": "julia-1.8"
  },
  "language_info": {
   "file_extension": ".jl",
   "mimetype": "application/julia",
   "name": "julia",
   "version": "1.8.2"
  }
 },
 "nbformat": 4,
 "nbformat_minor": 4
}
